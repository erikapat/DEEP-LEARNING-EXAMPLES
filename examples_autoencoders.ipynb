{
 "cells": [
  {
   "cell_type": "code",
   "execution_count": 1,
   "metadata": {},
   "outputs": [
    {
     "name": "stderr",
     "output_type": "stream",
     "text": [
      "Warning message in install.packages(\"h2o\"):\n",
      "“installation of package ‘h2o’ had non-zero exit status”Updating HTML index of packages in '.Library'\n",
      "Making 'packages.html' ... done\n"
     ]
    }
   ],
   "source": [
    "install.packages('h2o')\n",
    "#autoencoders for clustering: https://hub.packtpub.com/implementing-autoencoders-using-h2o/\n",
    "\n"
   ]
  },
  {
   "cell_type": "code",
   "execution_count": 1,
   "metadata": {},
   "outputs": [
    {
     "ename": "ERROR",
     "evalue": "Error in library(h2o): there is no package called ‘h2o’\n",
     "execution_count": 1,
     "output_type": "error",
     "traceback": [
      "Error in library(h2o): there is no package called ‘h2o’\nTraceback:\n",
      "1. library(h2o)",
      "2. stop(txt, domain = NA)"
     ]
    }
   ],
   "source": [
    "library(h2o)\n",
    "demo(h2o.glm)"
   ]
  },
  {
   "cell_type": "code",
   "execution_count": 23,
   "metadata": {},
   "outputs": [
    {
     "data": {
      "text/html": [
       "'/home/erikapat/Dropbox/PRUEBAS_DATA_SCIENCE/NOTEBOOKS-DEEP LEARNING/DEEP_LERANING'"
      ],
      "text/latex": [
       "'/home/erikapat/Dropbox/PRUEBAS\\_DATA\\_SCIENCE/NOTEBOOKS-DEEP LEARNING/DEEP\\_LERANING'"
      ],
      "text/markdown": [
       "'/home/erikapat/Dropbox/PRUEBAS_DATA_SCIENCE/NOTEBOOKS-DEEP LEARNING/DEEP_LERANING'"
      ],
      "text/plain": [
       "[1] \"/home/erikapat/Dropbox/PRUEBAS_DATA_SCIENCE/NOTEBOOKS-DEEP LEARNING/DEEP_LERANING\""
      ]
     },
     "metadata": {},
     "output_type": "display_data"
    }
   ],
   "source": [
    "getwd()"
   ]
  },
  {
   "cell_type": "code",
   "execution_count": 17,
   "metadata": {},
   "outputs": [
    {
     "ename": "ERROR",
     "evalue": "Error in library(\"h2o\"): there is no package called ‘h2o’\n",
     "execution_count": 17,
     "output_type": "error",
     "traceback": [
      "Error in library(\"h2o\"): there is no package called ‘h2o’\nTraceback:\n",
      "1. library(\"h2o\")",
      "2. stop(txt, domain = NA)"
     ]
    }
   ],
   "source": [
    "library(\"h2o\")\n",
    "\n",
    "#setwd (\"c://R\")\n"
   ]
  },
  {
   "cell_type": "code",
   "execution_count": 3,
   "metadata": {},
   "outputs": [
    {
     "name": "stdout",
     "output_type": "stream",
     "text": [
      "\n",
      "H2O is not running yet, starting it now...\n",
      "\n",
      "Note:  In case of errors look at the following log files:\n",
      "    /tmp/Rtmps0Vt5I/h2o_erikapat_started_from_r.out\n",
      "    /tmp/Rtmps0Vt5I/h2o_erikapat_started_from_r.err\n",
      "\n",
      "\n",
      "Starting H2O JVM and connecting: . Connection successful!\n",
      "\n",
      "R is connected to the H2O cluster: \n",
      "    H2O cluster uptime:         3 seconds 367 milliseconds \n",
      "    H2O cluster timezone:       Europe/Madrid \n",
      "    H2O data parsing timezone:  UTC \n",
      "    H2O cluster version:        3.20.0.2 \n",
      "    H2O cluster version age:    1 year, 2 months and 21 days !!! \n",
      "    H2O cluster name:           H2O_started_from_R_erikapat_ewz348 \n",
      "    H2O cluster total nodes:    1 \n",
      "    H2O cluster total memory:   3.46 GB \n",
      "    H2O cluster total cores:    4 \n",
      "    H2O cluster allowed cores:  4 \n",
      "    H2O cluster healthy:        TRUE \n",
      "    H2O Connection ip:          localhost \n",
      "    H2O Connection port:        54321 \n",
      "    H2O Connection proxy:       NA \n",
      "    H2O Internal Security:      FALSE \n",
      "    H2O API Extensions:         XGBoost, Algos, AutoML, Core V3, Core V4 \n",
      "    R Version:                  R version 3.5.1 (2018-07-02) \n"
     ]
    },
    {
     "name": "stderr",
     "output_type": "stream",
     "text": [
      "Warning message in h2o.clusterInfo():\n",
      "“\n",
      "Your H2O cluster version is too old (1 year, 2 months and 21 days)!\n",
      "Please download and install the latest version from http://h2o.ai/download/”"
     ]
    },
    {
     "name": "stdout",
     "output_type": "stream",
     "text": [
      "\n"
     ]
    }
   ],
   "source": [
    "h2o.init()"
   ]
  },
  {
   "cell_type": "code",
   "execution_count": 4,
   "metadata": {},
   "outputs": [
    {
     "data": {
      "text/html": [
       "<table>\n",
       "<thead><tr><th scope=col>movieId</th><th scope=col>title</th><th scope=col>genres</th></tr></thead>\n",
       "<tbody>\n",
       "\t<tr><td>1                                          </td><td>Toy Story (1995)                           </td><td>Adventure|Animation|Children|Comedy|Fantasy</td></tr>\n",
       "\t<tr><td>2                                          </td><td>Jumanji (1995)                             </td><td>Adventure|Children|Fantasy                 </td></tr>\n",
       "\t<tr><td>3                                          </td><td>Grumpier Old Men (1995)                    </td><td>Comedy|Romance                             </td></tr>\n",
       "\t<tr><td>4                                          </td><td>Waiting to Exhale (1995)                   </td><td>Comedy|Drama|Romance                       </td></tr>\n",
       "\t<tr><td>5                                          </td><td>Father of the Bride Part II (1995)         </td><td>Comedy                                     </td></tr>\n",
       "\t<tr><td>6                                          </td><td>Heat (1995)                                </td><td>Action|Crime|Thriller                      </td></tr>\n",
       "</tbody>\n",
       "</table>\n"
      ],
      "text/latex": [
       "\\begin{tabular}{r|lll}\n",
       " movieId & title & genres\\\\\n",
       "\\hline\n",
       "\t 1                                                                                   & Toy Story (1995)                                                                    & Adventure\\textbar{}Animation\\textbar{}Children\\textbar{}Comedy\\textbar{}Fantasy\\\\\n",
       "\t 2                                                               & Jumanji (1995)                                                  & Adventure\\textbar{}Children\\textbar{}Fantasy                 \\\\\n",
       "\t 3                                                     & Grumpier Old Men (1995)                               & Comedy\\textbar{}Romance                             \\\\\n",
       "\t 4                                                               & Waiting to Exhale (1995)                                        & Comedy\\textbar{}Drama\\textbar{}Romance                       \\\\\n",
       "\t 5                                           & Father of the Bride Part II (1995)          & Comedy                                     \\\\\n",
       "\t 6                                                               & Heat (1995)                                                     & Action\\textbar{}Crime\\textbar{}Thriller                      \\\\\n",
       "\\end{tabular}\n"
      ],
      "text/markdown": [
       "\n",
       "movieId | title | genres | \n",
       "|---|---|---|---|---|---|\n",
       "| 1                                           | Toy Story (1995)                            | Adventure|Animation|Children|Comedy|Fantasy | \n",
       "| 2                                           | Jumanji (1995)                              | Adventure|Children|Fantasy                  | \n",
       "| 3                                           | Grumpier Old Men (1995)                     | Comedy|Romance                              | \n",
       "| 4                                           | Waiting to Exhale (1995)                    | Comedy|Drama|Romance                        | \n",
       "| 5                                           | Father of the Bride Part II (1995)          | Comedy                                      | \n",
       "| 6                                           | Heat (1995)                                 | Action|Crime|Thriller                       | \n",
       "\n",
       "\n"
      ],
      "text/plain": [
       "  movieId title                             \n",
       "1 1       Toy Story (1995)                  \n",
       "2 2       Jumanji (1995)                    \n",
       "3 3       Grumpier Old Men (1995)           \n",
       "4 4       Waiting to Exhale (1995)          \n",
       "5 5       Father of the Bride Part II (1995)\n",
       "6 6       Heat (1995)                       \n",
       "  genres                                     \n",
       "1 Adventure|Animation|Children|Comedy|Fantasy\n",
       "2 Adventure|Children|Fantasy                 \n",
       "3 Comedy|Romance                             \n",
       "4 Comedy|Drama|Romance                       \n",
       "5 Comedy                                     \n",
       "6 Action|Crime|Thriller                      "
      ]
     },
     "metadata": {},
     "output_type": "display_data"
    }
   ],
   "source": [
    "#Load the training dataset of movies\n",
    "movies=read.csv (\"ml-latest-small/movies.csv\", header=TRUE)\n",
    "head(movies)\n",
    "\n"
   ]
  },
  {
   "cell_type": "code",
   "execution_count": 5,
   "metadata": {},
   "outputs": [
    {
     "name": "stdout",
     "output_type": "stream",
     "text": [
      "  |======================================================================| 100%\n",
      "  |======================================================================| 100%\n",
      "Model Details:\n",
      "==============\n",
      "\n",
      "H2OAutoEncoderModel: deeplearning\n",
      "Model Key:  DeepLearning_model_R_1567704517353_1 \n",
      "Status of Neuron Layers: auto-encoder, gaussian distribution, Quadratic loss, 53,452 weights/biases, 1.1 MB, 98,811 training samples, mini-batch size 1\n",
      "  layer units  type dropout       l1       l2 mean_rate rate_rms momentum\n",
      "1     1 10690 Input  0.00 %                                              \n",
      "2     2     2  Tanh  0.00 % 0.000000 0.000000  0.010942 0.082355 0.000000\n",
      "3     3 10690  Tanh         0.000000 0.000000  0.166809 0.113898 0.000000\n",
      "  mean_weight weight_rms mean_bias bias_rms\n",
      "1                                          \n",
      "2    0.000077   0.028156 -4.720312 4.631746\n",
      "3    0.000578   0.042424  0.001248 0.057731\n",
      "\n",
      "H2OAutoEncoderMetrics: deeplearning\n",
      "** Reported on training data. **\n",
      "\n",
      "Training Set Metrics: \n",
      "=====================\n",
      "\n",
      "MSE: (Extract with `h2o.mse`) 0.0001784055\n",
      "RMSE: (Extract with `h2o.rmse`) 0.01335685\n",
      "\n",
      "\n",
      "\n",
      "\n",
      "Scoring History: \n",
      "            timestamp          duration  training_speed   epochs iterations\n",
      "1 2019-09-05 19:28:45        11.436 sec 0.00000 obs/sec  0.00000          0\n",
      "2 2019-09-05 19:30:24  1 min 49.558 sec    1109 obs/sec 10.14278         65\n",
      "       samples training_rmse training_mse\n",
      "1     0.000000       0.01368      0.00019\n",
      "2 98811.000000       0.01336      0.00018\n",
      "\n",
      "Variable Importances: (Extract with `h2o.varimp`) \n",
      "=================================================\n",
      "\n",
      "Variable Importances: \n",
      "                variable relative_importance scaled_importance percentage\n",
      "1           genres.Drama            1.000000          1.000000   0.007297\n",
      "2          genres.Comedy            0.588724          0.588724   0.004296\n",
      "3   genres.Drama|Musical            0.450364          0.450364   0.003286\n",
      "4    genres.Action|Drama            0.436817          0.436817   0.003187\n",
      "5 genres.Horror|Thriller            0.374578          0.374578   0.002733\n",
      "\n",
      "---\n",
      "                               variable relative_importance scaled_importance\n",
      "10685 title.Prince of Tides, The (1991)            0.000069          0.000069\n",
      "10686             title.Eichmann (2007)            0.000060          0.000060\n",
      "10687          title.Miami Blues (1990)            0.000059          0.000059\n",
      "10688              title.Ben-hur (2016)            0.000053          0.000053\n",
      "10689                 title.missing(NA)            0.000000          0.000000\n",
      "10690                genres.missing(NA)            0.000000          0.000000\n",
      "      percentage\n",
      "10685   0.000001\n",
      "10686   0.000000\n",
      "10687   0.000000\n",
      "10688   0.000000\n",
      "10689   0.000000\n",
      "10690   0.000000\n",
      "  |======================================================================| 100%\n",
      "  |======================================================================| 100%\n"
     ]
    },
    {
     "data": {
      "image/png": "[encoded data removed]",
      "text/plain": [
       "plot without title"
      ]
     },
     "metadata": {},
     "output_type": "display_data",
     "source": "R display func"
    }
   ],
   "source": [
    "model=h2o.deeplearning(2:3,\n",
    "                  training_frame=as.h2o(movies),\n",
    "                  hidden=c(2),\n",
    "                  autoencoder = T,\n",
    "                  activation=\"Tanh\")\n",
    "summary(model)\n",
    "\n",
    "features=h2o.deepfeatures(model,\n",
    "                  as.h2o(movies),\n",
    "                  layer=1)\n",
    "\n",
    "d=as.matrix(features[1:10,])\n",
    "labels=as.vector(movies[1:10,2])\n",
    "plot(d,pch=17)\n",
    "text(d,labels,pos=3)"
   ]
  },
  {
   "cell_type": "markdown",
   "metadata": {},
   "source": [
    "## **Anomaly detection**"
   ]
  },
  {
   "cell_type": "code",
   "execution_count": 6,
   "metadata": {},
   "outputs": [
    {
     "data": {
      "text/plain": [
       "    CAPSULE            AGE             RACE           DPROS      \n",
       " Min.   :0,0000   Min.   :43,00   Min.   :0,000   Min.   :1,000  \n",
       " 1st Qu.:0,0000   1st Qu.:62,00   1st Qu.:1,000   1st Qu.:1,000  \n",
       " Median :0,0000   Median :67,00   Median :1,000   Median :2,000  \n",
       " Mean   :0,4026   Mean   :66,04   Mean   :1,087   Mean   :2,271  \n",
       " 3rd Qu.:1,0000   3rd Qu.:71,00   3rd Qu.:1,000   3rd Qu.:3,000  \n",
       " Max.   :1,0000   Max.   :79,00   Max.   :2,000   Max.   :4,000  \n",
       "     DCAPS            PSA              VOL           GLEASON     \n",
       " Min.   :1,000   Min.   :  0,30   Min.   : 0,00   Min.   :0,000  \n",
       " 1st Qu.:1,000   1st Qu.:  5,00   1st Qu.: 0,00   1st Qu.:6,000  \n",
       " Median :1,000   Median :  8,75   Median :14,25   Median :6,000  \n",
       " Mean   :1,108   Mean   : 15,41   Mean   :15,81   Mean   :6,384  \n",
       " 3rd Qu.:1,000   3rd Qu.: 17,12   3rd Qu.:26,45   3rd Qu.:7,000  \n",
       " Max.   :2,000   Max.   :139,70   Max.   :97,60   Max.   :9,000  "
      ]
     },
     "metadata": {},
     "output_type": "display_data"
    }
   ],
   "source": [
    "# point to the prostate data set in the h2o folder - no need to load h2o in memory yet\n",
    "prosPath = system.file(\"extdata\", \"prostate.csv\", package = \"h2o\")\n",
    "prostate_df <- read.csv(prosPath)\n",
    "\n",
    "# We don't need the ID field\n",
    "prostate_df <- prostate_df[,-1]\n",
    "summary(prostate_df)"
   ]
  },
  {
   "cell_type": "markdown",
   "metadata": {},
   "source": [
    "Benchmark Random Forest Model\n",
    "\n",
    "Let’s start by running a simple random forest model on the data by splitting it in two random portions (with a seed) - a training and a testing portion. This will give us a base score to measure our improvements using autoencoding."
   ]
  },
  {
   "cell_type": "code",
   "execution_count": 7,
   "metadata": {},
   "outputs": [
    {
     "data": {
      "text/html": [
       "<ol class=list-inline>\n",
       "\t<li>193</li>\n",
       "\t<li>8</li>\n",
       "</ol>\n"
      ],
      "text/latex": [
       "\\begin{enumerate*}\n",
       "\\item 193\n",
       "\\item 8\n",
       "\\end{enumerate*}\n"
      ],
      "text/markdown": [
       "1. 193\n",
       "2. 8\n",
       "\n",
       "\n"
      ],
      "text/plain": [
       "[1] 193   8"
      ]
     },
     "metadata": {},
     "output_type": "display_data"
    },
    {
     "data": {
      "text/html": [
       "<ol class=list-inline>\n",
       "\t<li>187</li>\n",
       "\t<li>8</li>\n",
       "</ol>\n"
      ],
      "text/latex": [
       "\\begin{enumerate*}\n",
       "\\item 187\n",
       "\\item 8\n",
       "\\end{enumerate*}\n"
      ],
      "text/markdown": [
       "1. 187\n",
       "2. 8\n",
       "\n",
       "\n"
      ],
      "text/plain": [
       "[1] 187   8"
      ]
     },
     "metadata": {},
     "output_type": "display_data"
    }
   ],
   "source": [
    "set.seed(1234)\n",
    "random_splits <- runif(nrow(prostate_df))\n",
    "train_df <- prostate_df[random_splits < .5,]\n",
    "dim(train_df)\n",
    "## [1] 193   8\n",
    "validate_df <- prostate_df[random_splits >=.5,]\n",
    "dim(validate_df)"
   ]
  },
  {
   "cell_type": "code",
   "execution_count": 8,
   "metadata": {},
   "outputs": [
    {
     "name": "stderr",
     "output_type": "stream",
     "text": [
      "randomForest 4.6-14\n",
      "Type rfNews() to see new features/changes/bug fixes.\n"
     ]
    }
   ],
   "source": [
    "#Install packages randomForest and pROC and run a simple classification model on outcome variable CAPSULE:\n",
    "\n",
    "#install.packages('randomForest')\n",
    "library(randomForest)"
   ]
  },
  {
   "cell_type": "code",
   "execution_count": 9,
   "metadata": {},
   "outputs": [],
   "source": [
    "\n",
    "\n",
    "outcome_name <- 'CAPSULE'\n",
    "feature_names <- setdiff(names(prostate_df), outcome_name)\n",
    "set.seed(1234)\n",
    "rf_model <- randomForest(x=train_df[,feature_names],\n",
    "                         y=as.factor(train_df[,outcome_name]),\n",
    "                         importance=TRUE, ntree=20, mtry = 3)\n",
    "\n",
    "validate_predictions <- predict(rf_model, newdata=validate_df[,feature_names], type=\"prob\")"
   ]
  },
  {
   "cell_type": "code",
   "execution_count": 10,
   "metadata": {},
   "outputs": [
    {
     "name": "stderr",
     "output_type": "stream",
     "text": [
      "Type 'citation(\"pROC\")' for a citation.\n",
      "\n",
      "Attaching package: ‘pROC’\n",
      "\n",
      "The following object is masked from ‘package:h2o’:\n",
      "\n",
      "    var\n",
      "\n",
      "The following objects are masked from ‘package:stats’:\n",
      "\n",
      "    cov, smooth, var\n",
      "\n"
     ]
    }
   ],
   "source": [
    "#Let’s use the pROC library to calculate our AUC score (remember, an AUC of 0.5 is random and 1 is perfect) and plot a chart:\n",
    "\n",
    "#install.packages('pROC')\n",
    "library(pROC)"
   ]
  },
  {
   "cell_type": "code",
   "execution_count": 11,
   "metadata": {},
   "outputs": [
    {
     "data": {
      "image/png": "[encoded data removed]",
      "text/plain": [
       "Plot with title “AUC: 0,765”"
      ]
     },
     "metadata": {},
     "output_type": "display_data",
     "source": "R display func"
    }
   ],
   "source": [
    "auc_rf = roc(response=as.numeric(as.factor(validate_df[,outcome_name]))-1,\n",
    "             predictor=validate_predictions[,2])\n",
    "\n",
    "plot(auc_rf, print.thres = \"best\", main=paste('AUC:',round(auc_rf$auc[[1]],3)))\n",
    "abline(h=1,col='blue')\n",
    "abline(h=0,col='green')"
   ]
  },
  {
   "cell_type": "code",
   "execution_count": 12,
   "metadata": {},
   "outputs": [
    {
     "name": "stdout",
     "output_type": "stream",
     "text": [
      " Connection successful!\n",
      "\n",
      "R is connected to the H2O cluster: \n",
      "    H2O cluster uptime:         2 minutes 6 seconds \n",
      "    H2O cluster timezone:       Europe/Madrid \n",
      "    H2O data parsing timezone:  UTC \n",
      "    H2O cluster version:        3.20.0.2 \n",
      "    H2O cluster version age:    1 year, 2 months and 21 days !!! \n",
      "    H2O cluster name:           H2O_started_from_R_erikapat_ewz348 \n",
      "    H2O cluster total nodes:    1 \n",
      "    H2O cluster total memory:   3,42 GB \n",
      "    H2O cluster total cores:    4 \n",
      "    H2O cluster allowed cores:  4 \n",
      "    H2O cluster healthy:        TRUE \n",
      "    H2O Connection ip:          localhost \n",
      "    H2O Connection port:        54321 \n",
      "    H2O Connection proxy:       NA \n",
      "    H2O Internal Security:      FALSE \n",
      "    H2O API Extensions:         XGBoost, Algos, AutoML, Core V3, Core V4 \n",
      "    R Version:                  R version 3.5.1 (2018-07-02) \n"
     ]
    },
    {
     "name": "stderr",
     "output_type": "stream",
     "text": [
      "Warning message in h2o.clusterInfo():\n",
      "“\n",
      "Your H2O cluster version is too old (1 year, 2 months and 21 days)!\n",
      "Please download and install the latest version from http://h2o.ai/download/”"
     ]
    },
    {
     "name": "stdout",
     "output_type": "stream",
     "text": [
      "\n"
     ]
    }
   ],
   "source": [
    "#Autoencoder\n",
    "#Let’s see how an unsupervised autoencoding can assist us here. Start by initializing an h2o instance and create an H2O frame from the prostate data set:\n",
    "\n",
    "library(h2o)\n",
    "localH2O = h2o.init()\n"
   ]
  },
  {
   "cell_type": "code",
   "execution_count": 13,
   "metadata": {},
   "outputs": [
    {
     "ename": "ERROR",
     "evalue": "Error in h2o.parseSetup(data, pattern = \"\", destination_frame, header, : length of col.names must equal to the number of columns in dataset\n",
     "execution_count": 13,
     "output_type": "error",
     "traceback": [
      "Error in h2o.parseSetup(data, pattern = \"\", destination_frame, header, : length of col.names must equal to the number of columns in dataset\nTraceback:\n",
      "1. as.h2o(train_df, destination_frame = \"train.hex\")",
      "2. as.h2o.data.frame(train_df, destination_frame = \"train.hex\")",
      "3. h2o.uploadFile(tmpf, destination_frame = destination_frame, header = TRUE, \n .     col.types = types, col.names = colnames(x, do.NULL = FALSE, \n .         prefix = \"C\"), na.strings = rep(c(\"NA_h2o\"), ncol(x)))",
      "4. h2o.parseRaw(data = rawData, destination_frame = destination_frame, \n .     header = header, sep = sep, col.names = col.names, col.types = col.types, \n .     na.strings = na.strings, blocking = !progressBar, parse_type = parse_type, \n .     decrypt_tool = decrypt_tool)",
      "5. h2o.parseSetup(data, pattern = \"\", destination_frame, header, \n .     sep, col.names, col.types = NULL, na.strings = na.strings, \n .     parse_type = parse_type, chunk_size = chunk_size, decrypt_tool = decrypt_tool)",
      "6. stop(\"length of col.names must equal to the number of columns in dataset\")"
     ]
    }
   ],
   "source": [
    "prostate.hex<-as.h2o(train_df, destination_frame=\"train.hex\")"
   ]
  },
  {
   "cell_type": "code",
   "execution_count": null,
   "metadata": {},
   "outputs": [],
   "source": [
    "#Getting down to the heart of our business, let’s call the deeplearning function with parameter autoencoder set to TRUE \n",
    "#(we also set the reproducible flag to TRUE along with a seed so we all see the same results but this is substantially slower than setting the flag to FALSE):\n",
    "\n",
    "prostate.dl = h2o.deeplearning(x = feature_names, training_frame = prostate.hex,\n",
    "                               autoencoder = TRUE,\n",
    "                               reproducible = T,\n",
    "                               seed = 1234,\n",
    "                               hidden = c(6,5,6), epochs = 50)"
   ]
  },
  {
   "cell_type": "code",
   "execution_count": null,
   "metadata": {},
   "outputs": [],
   "source": []
  }
 ],
 "metadata": {
  "kernelspec": {
   "display_name": "R",
   "language": "R",
   "name": "ir"
  },
  "language_info": {
   "codemirror_mode": "r",
   "file_extension": ".r",
   "mimetype": "text/x-r-source",
   "name": "R",
   "pygments_lexer": "r",
   "version": "3.5.1"
  }
 },
 "nbformat": 4,
 "nbformat_minor": 4
}
