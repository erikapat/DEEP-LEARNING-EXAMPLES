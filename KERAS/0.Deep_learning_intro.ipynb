{
 "cells": [
  {
   "cell_type": "markdown",
   "metadata": {},
   "source": [
    "## **DEEP LEARNING TUTORIAL**\n",
    "\n",
    "\n",
    "This tutorial covers several major aspects of neural networks by providing working nets coded in Keras, a minimalist and efficient Python library for deep learning computations running on the top of either Google's TensorFlow or University of Montreal's Theano backend. So, let's star\n",
    "For the algorithms of deep learning the packages that are required are:\n",
    "\n",
    "* TensorFlow 1.0.0 or higher\n",
    "* Keras 2.0.2 or higher\n",
    "* Matplotlib 1.5.3 or higher\n",
    "* Scikit-learn 0.18.1 or higher\n",
    "* NumPy 1.12.1 or higher\n"
   ]
  },
  {
   "cell_type": "markdown",
   "metadata": {},
   "source": [
    "#### Some of the most known arquitectures:\n",
    "\n",
    "* **Perceptron**: is a model having one single linear layer\n",
    "* **Multilayer perceptron/FeedForward Neural Network:**  is a model having multiple layers\n",
    "* **CNN- Convolutional Neural Networks** -> Used in image recognition. The name convolution is derived from a mathematical operation involving the convolution of different functions. **Advantages:** Very good for visual recognition. Once a segment within a particular sector of an image is learned, the CNN can recognize that segment present anywhere else in the image. **Disadvantages:** CNN is highly dependent on the size and quality of the training data and Highly susceptible to noise.\n",
    "* **Recurrent Neural Networks (RNNs)** have been very popular in areas where the sequence in which the information is presented is crucial. As a result, they find a lot applications in real-world domains such as natural language processing, speech synthesis and machine translation. Over the years, quite a few varieties of RNNs have been researched and developed:\n",
    "\n",
    "    **Bidirectional RNN**  – The output in this type of RNN depends not only on the past but also the future outcomes.\n",
    "\n",
    "    **Deep RNN** – In this type of RNN, there are multiple layers present per step, allowing for a greater rate of learning and more accuracy.\n",
    "    \n",
    "* **Autoencoders** Some of the popular applications of Autoencoders is anomaly detection – for example detecting fraud in financial transactions in banks. Basically, **the core task of autoencoders is to identify and determine what constitutes regular, normal data and then identify the outliers or anomalies**. Autoencoders apply the principle of backpropagation in an **unsupervised environment**. Autoencoders, interestingly, have a close resemblance to PCA (Principal Component Analysis) except that they are more flexible.\n",
    "\n",
    "    There are 4 major types of autoencoders being used today:\n",
    "\n",
    "    **Vanilla autoencoder** – the simplest form of autoencoders there is, i.e. a neural net with one hidden layer\n",
    "    \n",
    "    **Multilayer autoencoder** – when one hidden layer is not enough, an autoencoder can be extended to include more hidden layers\n",
    "    \n",
    "    **Convolutional autoencoder** – In this type, convolutions are used in the autoencoders instead of fully-connected layers\n",
    "    \n",
    "    **Regularized autoencoder** – this type of autoencoders use a special loss function that enables the model to have properties beyond the basic ability to copy a given input to the output.\n",
    "    \n",
    "    Example of autoencoder for clustering movies by theme in H20: https://hub.packtpub.com/implementing-autoencoders-using-h2o/\n",
    "    \n",
    "    Architecturally, the simplest form of autoencoder is an advanced and non-recurring neural network very similar to the MLP, with an input level, an output layer, and one or more hidden layers that connect them, but with the layer outputs having the same number of input level nodes for rebuilding their inputs.\n",
    "    \n",
    "* **Advantages of Autoencoders**\n",
    "* Autoencoders give a resultant model which is primarily based on the data rather than predefined filters\n",
    "* Very less complexity means it’s easier to train them\n",
    "* **Disadvantages of Autoencoders**\n",
    "* Training time can be very high sometimes\n",
    "* If the training data is not representative of the testing data, then the information that comes out of the model can be obscured and unclear\n",
    "* Some autoencoders, especially of the variational type, cause a deterministic bias being introduced in the model\n",
    "\n",
    "\n",
    "### Other concepts\n",
    "* Activation functions\n",
    "* Gradient descent\n",
    "* Stochastic gradient descent\n",
    "* Backpropagation\n",
    "\n",
    "More in:\n",
    "https://towardsdatascience.com/the-mostly-complete-chart-of-neural-networks-explained-3fb6f2367464\n",
    "\n"
   ]
  },
  {
   "cell_type": "markdown",
   "metadata": {},
   "source": [
    "\n",
    "## Optimization functions\n",
    "\n",
    "* A common problem we all face when working on deep learning projects is choosing a learning rate and optimizer (the hyper-parameters). \n",
    "* In keras we have 6 different optimizers: Gradient Descent, Adam, Adagrad, Adadelta, RMS Prop and Momentum.\n",
    "* gradient + momentum: fuerza hacia la misma dirección de decrecimiento, evita oscilaciones hacia arriba y hacia abajo.\n",
    "* Rprop truncamientos hacia arriba y hacia abajo para evitar oscilaciones (método adaptativo)\n",
    "* RMS prop: tiene un factor de memoria para recordar una mejora con respecto a R prop.\n",
    "* Adam learns the fastest. Adam is more stable than the other optimizers, it doesn’t suffer any major decreases in accuracy.\n",
    "* **Momentum vs. Learning rate tradeoff**\n",
    "\n",
    "* **Learnign rate:**\n",
    "\n",
    "* There is a valley shape for each optimizer: too low a learning rate never progresses, too high a learning rate causes instability and never converges. In between there is a band of “just right” learning rates that successfully train.\n",
    "* There is no learning rate that works for all optimizers.\n",
    "* Learning rate can affect training time by an order of magnitude.\n",
    "* It’s crucial you choose the correct learning rate as otherwise your network will either fail to train, or take much longer to converge.\n",
    "\n",
    "https://towardsdatascience.com/learning-rate-schedules-and-adaptive-learning-rate-methods-for-deep-learning-2c8f433990d1\n",
    "\n",
    "#### Activation functions \n",
    "1. **Linear Activation Function**: It is a simple linear function of the form f(x) = x. Basically, the input passes to the output without any modification.\n",
    "2. **Non-Linear Activation Functions:** These functions are used to separate the data that is not linearly separable and are the most used activation functions. Few examples of different types of non-linear activation functions are sigmoid, tanh, relu, lrelu, prelu, swish, etc.\n",
    "    1. **Sigmoid**: It is also known as Logistic Activation Function. It takes a real-valued number and squashes it into a range between 0 and 1. It is also used in the output layer where our end goal is to predict probability. It converts large negative numbers to 0 and large positive numbers to 1. \n",
    "\n",
    "**The three major drawbacks of sigmoid are:**\n",
    "\n",
    "* **Vanishing gradients:** Notice, the sigmoid function is flat near 0 and 1. In other words, the gradient of the sigmoid is 0 near 0 and 1. During backpropagation through the network with sigmoid activation, the gradients in neurons whose output is near 0 or 1 are nearly 0. These neurons are called saturated neurons. Thus, the weights in these neurons do not update. Not only that, the weights of neurons connected to such neurons are also slowly updated. This problem is also known as vanishing gradient. So, imagine if there was a large network comprising of sigmoid neurons in which many of them are in a saturated regime, then the network will not be able to backpropagate.\n",
    "* **Not zero centered:** Sigmoid outputs are not zero-centered.\n",
    "* **Computationally expensive:** The exp() function is computationally expensive compared with the other non-linear activation functions.\n",
    "\n",
    "    2. **Tanh** You can think of a tanh function as two sigmoids put together. In practice, tanh is preferable over sigmoid. The negative inputs considered as strongly negative, zero input values mapped near zero, and the positive inputs regarded as positive. The only drawback of tanh is that the tanh function also suffers from the vanishing gradient problem and therefore kills gradients when saturated.\n",
    "\n",
    "To address the vanishing gradient problem, let us discuss another non-linear activation function known as the rectified linear unit (ReLU) which is a lot better than the previous two activation functions and is most widely used these days.\n",
    "    "
   ]
  },
  {
   "cell_type": "markdown",
   "metadata": {},
   "source": [
    "**Rectified Linear Unit (ReLU)**\n",
    "\n",
    "ReLU is half-rectified from the bottom as you can see from the figure above. Mathematically, it is given by this simple expression\n",
    "\n",
    "    \\[ f(x) = \\max(0,x) \\]\n",
    "\n",
    "This means that when the input x < 0 the output is 0 and if x > 0 the output is x. This activation makes the network converge much faster. It does not saturate which means it is resistant to the vanishing gradient problem at least in the positive region ( when x > 0), so the neurons do not backpropagate all zeros at least in half of their regions. ReLU is computationally very efficient because it is implemented using simple thresholding. But there are few drawbacks of ReLU neuron :\n",
    "\n",
    "Not zero-centered: The outputs are not zero centered similar to the sigmoid activation function.\n",
    "The other issue with ReLU is that if x < 0 during the forward pass, the neuron remains inactive and it kills the gradient during the backward pass. Thus weights do not get updated, and the network does not learn. When x = 0 the slope is undefined at that point, but this problem is taken care of during implementation by picking either the left or the right gradient.\n",
    "\n",
    "**Leaky ReLU**\n",
    "\n",
    "his was an attempt to mitigate the dying ReLU problem. The function computes\n",
    "\n",
    "    \\[ f(x) = max(0.1x, x) \\]\n",
    "\n",
    "The concept of leaky ReLU is when x < 0, it will have a small positive slope of 0.1. This function somewhat eliminates the dying ReLU problem, but the results achieved with it are not consistent. Though it has all the characteristics of a ReLU activation function, i.e., computationally efficient, converges much faster, does not saturate in positive region.\n",
    "\n",
    "The idea of leaky ReLU can be extended even further. Instead of multiplying x with a constant term we can multiply it with a hyperparameter which seems to work better the leaky ReLU. This extension to leaky ReLU is known as Parametric ReLU.\n",
    "\n",
    "**Parametric ReLU**\n",
    "\n",
    "The PReLU function is given by\n",
    "\n",
    "    \\[ f(x) = \\max(\\alpha x, x) \\]\n",
    "\n",
    "Where \\alpha is a hyperparameter. The idea here was to introduce an arbitrary hyperparameter \\alpha, and this \\alpha can be learned since you can backpropagate into it. This gives the neurons the ability to choose what slope is best in the negative region, and with this ability, they can become a ReLU or a leaky ReLU.\n",
    "\n",
    "In summary, it is better to use ReLU, but you can experiment with Leaky ReLU or Parametric ReLU to see if they give better results for your problem\n",
    "\n",
    "**SWISH**\n",
    "\n",
    "Also known as a self-gated activation function, has recently been released by researchers at Google. Mathematically it is represented as\n",
    "\n",
    "    \\[ \\sigma(x) = \\frac{x}{1 + e^{-x}} \\]\n",
    "\n",
    "According to the paper, the SWISH activation function performs better than ReLU\n",
    "\n",
    "In the negative region of the x-axis the shape of the tail is different from the ReLU activation function and because of this the output from the Swish activation function may decrease even when the input value increases. Most activation functions are monotonic, i.e., their value never decreases as the input increases. Swish has one-sided boundedness property at zero, it is smooth and is non-monotonic. It will be interesting to see how well it performs by changing just one line of code.\n",
    "\n",
    "https://www.learnopencv.com/understanding-activation-functions-in-deep-learning/\n",
    "\n",
    "**Softmax**\n",
    "\n",
    "The softmax function is also a type of sigmoid function but is handy when we are trying to handle classification problems. The sigmoid function as we saw earlier was able to handle just two classes. What shall we do when we are trying to handle multiple classes. Just classifying yes or no for a single class would not help then. The softmax function would squeeze the outputs for each class between 0 and 1 and would also divide by the sum of the outputs. (convertir los valores en probabilidad)\n",
    "\n",
    "## Choosing the right Activation Function\n",
    "\n",
    "* Sigmoid functions and their combinations generally work better in the case of classifiers\n",
    "* Sigmoids and tanh functions are sometimes avoided due to the vanishing gradient problem\n",
    "* ReLU function is a general activation function and is used in most cases these days\n",
    "* If we encounter a case of dead neurons (zero gradient) in our networks the leaky ReLU function is the best choice\n",
    "* Always keep in mind that ReLU function should only be used in the hidden layers\n",
    "* As a rule of thumb, you can begin with using ReLU function and then move over to other activation functions in case ReLU doesn’t provide with optimum results"
   ]
  },
  {
   "cell_type": "markdown",
   "metadata": {},
   "source": [
    "#### **Loss functions** \n",
    "Take care of the **objective function** (loss function).  Choosing the right objective function for the right problem is extremely important: your network will take any shortcut it can, to minimize the loss; so if the objective doesn’t fully correlate with success for the task at hand, your network will end up\n",
    "doing things you may not have wanted.\n",
    "\n",
    "Fortunately, when it comes to common problems such as classification, regression,\n",
    "and sequence prediction, there are simple guidelines you can follow to choose the\n",
    "correct loss. For instance, \n",
    "* you’ll use **binary crossentropy** for a two-class classification\n",
    "problem, \n",
    "* **categorical crossentropy** for a many-class classification problem, \n",
    "* **mean-squared error** for a regression problem, \n",
    "* **connectionist temporal classification (CTC)** for a sequence-learning problem, and so on. \n",
    "\n",
    "Only when you’re working on truly new research problems will you have to develop your own objective functions. \n",
    "\n",
    "\n",
    "\n",
    "#### **Bag of words vs. Embbedings**\n",
    "https://medium.com/huggingface/universal-word-sentence-embeddings-ce48ddc8fc3a\n",
    "\n",
    "#### **Data Augmentation**\n",
    "\n",
    "Deep learning algorithms often perform better with more data. If you can’t reasonably get more data, you can invent more data.\n",
    "\n",
    "* If your data are vectors of numbers, create randomly modified versions of existing vectors.\n",
    "* If your data are images, create randomly modified versions of existing images.\n",
    "* If your data are text, you get the idea…\n",
    "\n",
    "\n",
    "Often this is called **data augmentation or data generator.** You can use a generative model. You can also use simple tricks. **For example:** \n",
    "* with photograph image data, you can get big gains by randomly shifting and rotating existing images. It improves the generalization of the model to such transforms in the data if they are to be expected in new data.\n",
    "* remenber the problem of optimal price for insurance\n",
    "\n",
    "**ImageDataGenerator **\n",
    "\n",
    "Keras provides the ImageDataGenerator class that defines the configuration for image data preparation and augmentation. This includes capabilities such as:\n",
    "\n",
    "* Sample-wise standardization.\n",
    "* Feature-wise standardization.\n",
    "* ZCA whitening.\n",
    "* Random rotation, shifts, shear and flips.\n",
    "* Dimension reordering.\n",
    "* Save augmented images to disk.\n",
    "* An augmented image generator can be created as follows:\n",
    "\n",
    "`datagen = ImageDataGenerator()`\n",
    "\n",
    "Rather than performing the operations on your entire image dataset in memory, the API is designed to be iterated by the deep learning model fitting process, creating augmented image data for you just-in-time. This reduces your memory overhead, but adds some additional time cost during model training.\n",
    "\n",
    "https://machinelearningmastery.com/image-augmentation-deep-learning-keras/\n",
    "\n",
    "\n",
    "\n",
    "##### TIPS\n",
    "\n",
    "* Avoid bottlenecks, the hidden nodes have to be grater in number in comparison with the input nodes.\n",
    "* Take in consideration the rate of learning and momentum.\n",
    "* The neural networks consedire interactions between variables (for this reason more nodes are more interactions). Te problem is the interpretability because you never know which variables and which interactions are the better.\n",
    "* Data augmentaton to fit overfittithg. Sometime the overfitting is because you do not show to the machine all the patters so, you have to create more data in order to have more information.\n",
    "\n",
    "\n",
    "* **Rescale Your Data** to the bounds of your activation functions. If you are using sigmoid activation functions, rescale your data to values between 0-and-1. If you’re using the Hyperbolic Tangent (tanh), rescale to values between -1 and 1. This applies to inputs (x) and outputs (y). For example, if you have a sigmoid on the output layer to predict binary values, normalize your y values to be binary. If you are using softmax, you can still get benefit from normalizing your y values. I would suggest that you create a few different versions of your training dataset as follows:\n",
    "\n",
    "1. Normalized to 0 to 1.\n",
    "2. Rescaled to -1 to 1.\n",
    "3. Standardized.\n",
    "\n",
    "Then evaluate the performance of your model on each. Pick one, then double down. If you change your activation functions, repeat this little experiment. Big values accumulating in your network are not good. In addition, there are other methods for keeping numbers small in your network such as normalizing activation and weights, but we’ll look at these techniques later.\n",
    "\n",
    "* **Transform Your Data**\n",
    "\n",
    "Related to rescaling suggested above, but more work. You must really get to know your data. Visualize it. Look for outliers. Guesstimate the univariate distribution of each column.\n",
    "\n",
    "* Does a column look like a skewed Gaussian, consider adjusting the skew with a Box-Cox transform.\n",
    "* Does a column look like an exponential distribution, consider a log transform.\n",
    "* Does a column look like it has some features, but they are being clobbered by something obvious, try squaring, or square-rooting.\n",
    "* Can you make a feature discrete or binned in some way to better emphasize some feature.\n",
    "\n",
    "Lean on your intuition. Try things.\n",
    "\n",
    "* Can you pre-process data with a projection method like PCA?\n",
    "* Can you aggregate multiple attributes into a single value?\n",
    "* Can you expose some interesting aspect of the problem with a new boolean flag?\n",
    "* Can you explore temporal or other structure in some other way?\n",
    "* Neural nets perform feature learning. They can do this stuff.\n",
    "\n",
    "But they will also learn a problem much faster if you can better expose the structure of the problem to the network for learning. Spot-check lots of different transforms of your data or of specific attributes and see what works and what doesn’t.\n",
    "\n",
    "**Code to scale data**\n",
    "https://machinelearningmastery.com/prepare-data-machine-learning-python-scikit-learn/\n",
    "\n",
    "**Other tips** https://machinelearningmastery.com/improve-deep-learning-performance/\n",
    "\n",
    "#### Hyperarameter optimization\n",
    "https://towardsdatascience.com/hyperparameter-optimization-with-keras-b82e6364ca53\n",
    "\n",
    "\n",
    "\n"
   ]
  },
  {
   "cell_type": "code",
   "execution_count": 1,
   "metadata": {},
   "outputs": [
    {
     "name": "stderr",
     "output_type": "stream",
     "text": [
      "Using TensorFlow backend.\n"
     ]
    }
   ],
   "source": [
    "# Load libraries\n",
    "\n",
    "import os\n",
    "import sys\n",
    "\n",
    "from keras.layers import Activation, Dense\n",
    "from keras.models import Sequential\n",
    "model = Sequential()\n",
    "\n",
    "#kernel_initializer (initializations of weights)\n",
    "#kernel_initializer : random_uniform/uniform, random_normal, zero\n",
    "\n",
    "#It means 8 input parameters, with 12 neurons in the FIRST hidden layer.\n",
    "model.add(Dense(12, kernel_initializer=\"random_uniform\", input_dim=8, activation=\"relu\"))\n",
    "\n",
    "\n",
    "\n"
   ]
  },
  {
   "cell_type": "markdown",
   "metadata": {},
   "source": [
    "## HELP"
   ]
  },
  {
   "cell_type": "code",
   "execution_count": 2,
   "metadata": {},
   "outputs": [
    {
     "name": "stdout",
     "output_type": "stream",
     "text": [
      "Help on built-in function len in module builtins:\n",
      "\n",
      "len(obj, /)\n",
      "    Return the number of items in a container.\n",
      "\n"
     ]
    }
   ],
   "source": [
    "help(len)"
   ]
  },
  {
   "cell_type": "markdown",
   "metadata": {},
   "source": [
    "## KERAS\n",
    "\n",
    "Keras is a\n",
    "deep-learning framework for Python that provides a convenient way to define and\n",
    "train almost any kind of deep-learning model. Keras was initially developed for\n",
    "researchers, with the aim of enabling fast experimentation.\n",
    "\n",
    "Keras has the following key features:\n",
    "* It allows the same code to run seamlessly on CPU or GPU .\n",
    "* It has a user-friendly API that makes it easy to quickly prototype deep-learning\n",
    "models.\n",
    "* It has built-in support for convolutional networks (for computer vision), recur-\n",
    "rent networks (for sequence processing), and any combination of both.\n",
    "* It supports arbitrary network architectures: multi-input or multi-output models,\n",
    "layer sharing, model sharing, and so on. This means Keras is appropriate for\n",
    "building essentially any deep-learning model, from a generative adversarial net-\n",
    "work to a neural Turing machine\n",
    "\n",
    "Keras has well over 200,000 users, ranging from academic researchers and engi-\n",
    "neers at both startups and large companies to graduate students and hobbyists. Keras\n",
    "is used at Google, Netflix, Uber, CERN , Yelp, Square, and hundreds of startups work-\n",
    "ing on a wide range of problems. Keras is also a popular framework on Kaggle, the\n",
    "machine-learning competition website, where almost every recent deep-learning com-\n",
    "petition has been won using Keras models\n",
    "\n",
    "Keras can be run with any of the backends: tHEANO, CNK & TENSORFLOW"
   ]
  },
  {
   "cell_type": "markdown",
   "metadata": {},
   "source": [
    "## MNIST \n",
    "\n",
    "MNIST es un conjunto de 60000 imágenes de dígitos manuscritos recopilados por el National Institute of Standards and Technology (NIST) en los años 80. Se ha convertido en un conjunto de datos básico para comprobar el funcionamiento de cualquier algoritmo de Deep Learning. Esta base de datos también contiene 10000 imágenes para realizar los tests una vez entrenada la red neuronal. En este ejemplo veremos como construir una FFNN para resolver este problema usando la librería Keras.\n",
    "\n",
    "* Separar los datos en conjuntos de entrenamiento y de comprobación o test.\n",
    "* Escalar los datos y convertirlos en matrices o conjuntos de categorías.\n",
    "* Diseñar la red neuronal eligiendo el número y tipo de capas y los filtros.\n",
    "* Entrenar la red con \"fit\".\n",
    "* Validar el modelo con el conjunto de datos reservado como test."
   ]
  },
  {
   "cell_type": "code",
   "execution_count": 3,
   "metadata": {},
   "outputs": [],
   "source": [
    "from keras.datasets import mnist\n",
    "(train_images, train_labels), (test_images, test_labels) = mnist.load_data()\n",
    "\n",
    "train_images.shape\n",
    "\n",
    "(train_images, train_labels), (test_images, test_labels) = mnist.load_data()\n"
   ]
  },
  {
   "cell_type": "markdown",
   "metadata": {},
   "source": [
    "## TENSORS \n",
    "\n",
    "Tha data is defined as a multidimensional Numpy arrays, also called **tensors**.\n",
    "\n",
    "In general, all current machine-learning systems use tensors\n",
    "as their basic data structure. Tensors are fundamental to the field—so fundamental\n",
    "that Google’s TensorFlow was named after them. So what’s a tensor?\n",
    "At its core, a tensor is a container for data—almost always numerical data. So, it’s a\n",
    "container for numbers. You may be already familiar with matrices, which are 2D ten-\n",
    "sors: tensors are a generalization of matrices to an arbitrary number of dimensions\n",
    "(note that in the context of tensors, a dimension is often called an axis)\n",
    "\n",
    "**Scalars (0D tensors)**\n",
    "\n",
    "A tensor that contains only one number is called a scalar (or scalar tensor, or 0-dimensional\n",
    "tensor, or 0D tensor). In Numpy, a float32 or float64 number is a scalar tensor (or scalar\n",
    "array). You can display the number of axes of a Numpy tensor via the ndim attribute; a sca-\n",
    "lar tensor has 0 axes ( ndim == 0 ). The number of axes of a tensor is also called its rank.\n",
    "\n",
    "**Vectors (1D tensors)**\n",
    "\n",
    "An array of numbers is called a vector, or 1D tensor. A 1D tensor is said to have exactly\n",
    "one axis. This vector has five entries and so is called a 5-dimensional vector. Don’t confuse a 5D\n",
    "vector with a 5D tensor! A 5D vector has only one axis and has five dimensions along its\n",
    "axis, whereas a 5D tensor has five axes (and may have any number of dimensions\n",
    "along each axis).\n",
    "\n",
    "**Matrices (2D tensors)**\n",
    "\n",
    "An array of vectors is a matrix, or 2D tensor. A matrix has two axes (often referred to\n",
    "rows and columns).\n",
    "\n",
    "**3D tensors and higher-dimensional tensors**\n",
    "\n",
    "If you pack such matrices in a new array, you obtain a 3D tensor, which you can visually\n",
    "interpret as a cube of numbers.\n",
    "\n",
    "By packing 3D tensors in an array, you can create a 4D tensor, and so on. In deep learn-\n",
    "ing, you’ll generally manipulate tensors that are 0D to 4D , although you may go up to\n",
    "5D if you process video data.\n",
    "\n",
    "## Key attributes\n",
    "\n",
    "A tensor is defined by three key attributes:\n",
    "* Number of axes (rank)—For instance, a 3D tensor has three axes, and a matrix has\n",
    "two axes. This is also called the tensor’s ndim in Python libraries such as Numpy.\n",
    "* Shape—This is a tuple of integers that describes how many dimensions the ten-\n",
    "sor has along each axis. For instance, the previous matrix example has shape\n",
    "(3, 5) , and the 3D tensor example has shape (3, 3, 5) . A vector has a shape\n",
    "with a single element, such as (5,) , whereas a scalar has an empty shape, () .\n",
    "* Data type (usually called dtype in Python libraries)—This is the type of the data\n",
    "contained in the tensor; for instance, a tensor’s type could be float32 , uint8 ,\n",
    "float64 , and so on. On rare occasions, you may see a char tensor. Note that\n",
    "string tensors don’t exist in Numpy (or in most other libraries), because tensors\n",
    "live in preallocated, contiguous memory segments: and strings, being variable\n",
    "length, would preclude the use of this implementation."
   ]
  },
  {
   "cell_type": "code",
   "execution_count": 4,
   "metadata": {},
   "outputs": [
    {
     "name": "stdout",
     "output_type": "stream",
     "text": [
      "3\n",
      "(60000, 28, 28)\n",
      "uint8\n"
     ]
    }
   ],
   "source": [
    "print(train_images.ndim)\n",
    "print(train_images.shape)\n",
    "print(train_images.dtype)\n"
   ]
  },
  {
   "cell_type": "code",
   "execution_count": 5,
   "metadata": {},
   "outputs": [
    {
     "data": {
      "text/plain": [
       "<Figure size 640x480 with 1 Axes>"
      ]
     },
     "metadata": {},
     "output_type": "display_data"
    }
   ],
   "source": [
    "import matplotlib.pyplot as plt\n",
    "i = 1\n",
    "img = train_images[i]\n",
    "plt.imshow(img, cmap=\"Greys\")\n",
    "plt.show()"
   ]
  },
  {
   "cell_type": "code",
   "execution_count": 6,
   "metadata": {},
   "outputs": [
    {
     "data": {
      "image/png": "[encoded data removed]",
      "text/plain": [
       "<Figure size 432x288 with 1 Axes>"
      ]
     },
     "metadata": {
      "needs_background": "light"
     },
     "output_type": "display_data"
    }
   ],
   "source": [
    "import matplotlib.pyplot as plt\n",
    "i = 1\n",
    "img = train_images[i]\n",
    "plt.imshow(img)\n",
    "plt.show()\n"
   ]
  },
  {
   "cell_type": "markdown",
   "metadata": {},
   "source": [
    "## TRAINING A NET\n",
    "\n",
    "* The core building block of neural networks is the layer, a data-processing module that\n",
    "you can think of as a filter for data. Some data goes in, and it comes out in a more use-\n",
    "ful form. Specifically, layers extract representations out of the data fed into them—hope-\n",
    "fully, representations that are more meaningful for the problem at hand. Most of\n",
    "deep learning consists of chaining together simple layers that will implement a form\n",
    "of progressive data distillation. A deep-learning model is like a sieve for data process-\n",
    "ing, made of a succession of increasingly refined data filters—the layers.\n",
    "\n",
    "* Here, our network consists of a sequence of two Dense layers, which are densely\n",
    "connected (also called fully connected) neural layers. The second (and last) layer is a\n",
    "10-way softmax layer, which means it will return an array of 10 probability scores (sum-\n",
    "ming to 1). Each score will be the probability that the current digit image belongs to\n",
    "one of our 10 digit classes."
   ]
  },
  {
   "cell_type": "code",
   "execution_count": 7,
   "metadata": {},
   "outputs": [],
   "source": [
    "from keras import models\n",
    "from keras import layers\n",
    "network = models.Sequential()\n",
    "network.add(layers.Dense(512, activation='relu', input_shape=(28 * 28,)))\n",
    "network.add(layers.Dense(10, activation='softmax'))"
   ]
  },
  {
   "cell_type": "markdown",
   "metadata": {},
   "source": [
    "To make the network ready for training, we need to pick three more things, as part\n",
    "of the compilation step:\n",
    "* **A loss function**—How the network will be able to measure its performance on\n",
    "the training data, and thus how it will be able to steer itself in the right direc-\n",
    "tion.\n",
    "* **An optimizer**—The mechanism through which the network will update itself\n",
    "based on the data it sees and its loss function.\n",
    "* **Metrics to monitor during training and testing** —Here, we’ll only care about accu-\n",
    "racy (the fraction of the images that were correctly classified)."
   ]
  },
  {
   "cell_type": "code",
   "execution_count": 8,
   "metadata": {},
   "outputs": [],
   "source": [
    "#Compilation step\n",
    "network.compile(optimizer='rmsprop',\n",
    "loss='categorical_crossentropy',\n",
    "metrics=['accuracy'])"
   ]
  },
  {
   "cell_type": "markdown",
   "metadata": {},
   "source": [
    "Before training, we’ll preprocess the data by reshaping it into the shape the network\n",
    "expects and scaling it so that all values are in the [0, 1] interval. Previously, our train-\n",
    "ing images, for instance, were stored in an array of shape (60000, 28, 28) of type\n",
    "uint8 with values in the [0, 255] interval. We transform it into a float32 array of\n",
    "shape (60000, 28 * 28) with values between 0 and 1."
   ]
  },
  {
   "cell_type": "code",
   "execution_count": 9,
   "metadata": {},
   "outputs": [],
   "source": [
    "train_images = train_images.reshape((60000, 28 * 28))\n",
    "train_images = train_images.astype('float32') / 255\n",
    "test_images = test_images.reshape((10000, 28 * 28))\n",
    "test_images = test_images.astype('float32') / 255"
   ]
  },
  {
   "cell_type": "markdown",
   "metadata": {},
   "source": [
    "We also need to categorically encode the labels"
   ]
  },
  {
   "cell_type": "code",
   "execution_count": 10,
   "metadata": {},
   "outputs": [],
   "source": [
    "from keras.utils import to_categorical\n",
    "train_labels = to_categorical(train_labels)\n",
    "test_labels = to_categorical(test_labels)"
   ]
  },
  {
   "cell_type": "markdown",
   "metadata": {},
   "source": [
    "We’re now ready to train the network, which in Keras is done via a call to the network’s fit method—we fit the model to its training data.\n",
    "\n",
    "Here, he network will start to iterate\n",
    "on the training data in mini-batches of 128 samples, 5 times over (each iteration over\n",
    "all the training data is called an epoch). At each iteration, the network will compute the\n",
    "gradients of the weights with regard to the loss on the batch, and update the weights\n"
   ]
  },
  {
   "cell_type": "code",
   "execution_count": 11,
   "metadata": {},
   "outputs": [
    {
     "name": "stdout",
     "output_type": "stream",
     "text": [
      "Epoch 1/5\n",
      "60000/60000 [==============================] - 19s 315us/step - loss: 0.2594 - acc: 0.9250\n",
      "Epoch 2/5\n",
      "60000/60000 [==============================] - 12s 203us/step - loss: 0.1053 - acc: 0.9689\n",
      "Epoch 3/5\n",
      "60000/60000 [==============================] - 12s 205us/step - loss: 0.0691 - acc: 0.9795\n",
      "Epoch 4/5\n",
      "60000/60000 [==============================] - 13s 212us/step - loss: 0.0508 - acc: 0.9844\n",
      "Epoch 5/5\n",
      "60000/60000 [==============================] - 12s 202us/step - loss: 0.0381 - acc: 0.9885\n"
     ]
    },
    {
     "data": {
      "text/plain": [
       "<keras.callbacks.History at 0x7fc02421af28>"
      ]
     },
     "execution_count": 11,
     "metadata": {},
     "output_type": "execute_result"
    }
   ],
   "source": [
    "network.fit(train_images, train_labels, epochs=5, batch_size=128)"
   ]
  },
  {
   "cell_type": "markdown",
   "metadata": {},
   "source": [
    "We quickly reach an accuracy of 0.989 (98.9%) on the training data. Now let’s\n",
    "check that the model performs well on the test set, too:"
   ]
  },
  {
   "cell_type": "code",
   "execution_count": 12,
   "metadata": {},
   "outputs": [
    {
     "name": "stdout",
     "output_type": "stream",
     "text": [
      "10000/10000 [==============================] - 2s 206us/step\n",
      "test_acc: 0.9805\n"
     ]
    }
   ],
   "source": [
    "test_loss, test_acc = network.evaluate(test_images, test_labels)\n",
    "print('test_acc:', test_acc)"
   ]
  },
  {
   "cell_type": "markdown",
   "metadata": {},
   "source": [
    "The test-set accuracy turns out to be 97.8%—that’s quite a bit lower than the training\n",
    "set accuracy. This gap between training accuracy and test accuracy is an example of\n",
    "overfitting: the fact that machine-learning models tend to perform worse on new data\n",
    "than on their training data."
   ]
  },
  {
   "cell_type": "markdown",
   "metadata": {},
   "source": [
    "## MANIPULATING TENSORS IN NUMPY"
   ]
  },
  {
   "cell_type": "code",
   "execution_count": 13,
   "metadata": {},
   "outputs": [
    {
     "name": "stdout",
     "output_type": "stream",
     "text": [
      "(90, 784)\n"
     ]
    }
   ],
   "source": [
    "# equivalents\n",
    "my_slice = train_images[10:100]\n",
    "print(my_slice.shape)\n",
    "#my_slice = train_images[10:100, :, :]\n",
    "#print(my_slice.shape)\n",
    "#my_slice = train_images[10:100, 0:28, 0:28]\n",
    "#print(my_slice.shape)\n",
    "\n",
    "#my_slice = train_images[:, 14:, 14:]\n",
    "#print(my_slice.shape)\n",
    "#my_slice = train_images[:, 7:-7, 7:-7]\n",
    "#print(my_slice.shape)"
   ]
  },
  {
   "cell_type": "markdown",
   "metadata": {},
   "source": [
    "## The notion of data batches"
   ]
  },
  {
   "cell_type": "markdown",
   "metadata": {},
   "source": [
    "\n",
    "\n",
    "Deep-learning models don’t process an entire dataset at once; rather,\n",
    "they break the data into small batches. Concretely, here’s one batch of our MNIST digits, with batch size of 128:\n"
   ]
  },
  {
   "cell_type": "code",
   "execution_count": 14,
   "metadata": {},
   "outputs": [],
   "source": [
    "batch = train_images[:128]\n",
    "#And here’s the next batch:\n",
    "batch = train_images[128:256]\n",
    "#And the n th batch:\n",
    "n =1\n",
    "batch = train_images[128 * n:128 * (n + 1)]"
   ]
  },
  {
   "cell_type": "markdown",
   "metadata": {},
   "source": [
    "## Real-world examples of data tensors\n",
    "\n",
    "Let’s make data tensors more concrete with a few examples similar to what you’ll\n",
    "encounter later. The data you’ll manipulate will almost always fall into one of the fol-\n",
    "lowing categories:\n",
    "* Vector data— 2D tensors of shape (samples, features)\n",
    "* Timeseries data or sequence data— 3D tensors of shape (samples, timesteps,\n",
    "features)\n",
    "* Images— 4D tensors of shape (samples, height, width, channels) or (samples,\n",
    "channels, height, width)\n",
    "* Video— 5D tensors of shape (samples, frames, height, width, channels) or\n",
    "(samples, frames, channels, height, width)\n",
    "\n",
    "\n",
    "## Image data\n",
    "Images typically have three dimensions: height, width, and color depth. Although\n",
    "grayscale images (like our MNIST digits) have only a single color channel and could\n",
    "thus be stored in 2D tensors, by convention image tensors are always 3D , with a one-\n",
    "dimensional color channel for grayscale images. A batch of 128 grayscale images of\n",
    "size 256 × 256 could thus be stored in a tensor of shape (128, 256, 256, 1) , and a\n",
    "batch of 128 color images could be stored in a tensor of shape (128, 256, 256, 3)"
   ]
  },
  {
   "cell_type": "markdown",
   "metadata": {},
   "source": [
    "## Tensor reshaping\n",
    "\n",
    "A third type of tensor operation that’s essential to understand is tensor reshaping.\n",
    "Although it wasn’t used in the Dense layers in our first neural network example, we\n",
    "used it when we preprocessed the digits data before feeding it into our network:\n",
    "train_images = train_images.reshape((60000, 28 * 28))\n",
    "Reshaping a tensor means rearranging its rows and columns to match a target shape.\n",
    "Naturally, the reshaped tensor has the same total number of coefficients as the initial\n",
    "tensor. Reshaping is best understood via simple examples:"
   ]
  },
  {
   "cell_type": "code",
   "execution_count": 15,
   "metadata": {},
   "outputs": [
    {
     "ename": "NameError",
     "evalue": "name 'np' is not defined",
     "output_type": "error",
     "traceback": [
      "\u001b[0;31m---------------------------------------------------------------------------\u001b[0m",
      "\u001b[0;31mNameError\u001b[0m                                 Traceback (most recent call last)",
      "\u001b[0;32m<ipython-input-15-8452973d4105>\u001b[0m in \u001b[0;36m<module>\u001b[0;34m()\u001b[0m\n\u001b[0;32m----> 1\u001b[0;31m x = np.array([[0., 1.],\n\u001b[0m\u001b[1;32m      2\u001b[0m \u001b[0;34m[\u001b[0m\u001b[0;36m2.\u001b[0m\u001b[0;34m,\u001b[0m \u001b[0;36m3.\u001b[0m\u001b[0;34m]\u001b[0m\u001b[0;34m,\u001b[0m\u001b[0;34m\u001b[0m\u001b[0m\n\u001b[1;32m      3\u001b[0m [4., 5.]])\n\u001b[1;32m      4\u001b[0m \u001b[0mprint\u001b[0m\u001b[0;34m(\u001b[0m\u001b[0mx\u001b[0m\u001b[0;34m.\u001b[0m\u001b[0mshape\u001b[0m\u001b[0;34m)\u001b[0m\u001b[0;34m\u001b[0m\u001b[0m\n\u001b[1;32m      5\u001b[0m \u001b[0;34m\u001b[0m\u001b[0m\n",
      "\u001b[0;31mNameError\u001b[0m: name 'np' is not defined"
     ]
    }
   ],
   "source": [
    "x = np.array([[0., 1.],\n",
    "[2., 3.],\n",
    "[4., 5.]])\n",
    "print(x.shape)\n",
    "\n",
    "x = x.reshape((6, 1))\n",
    "print(x.shape)\n",
    "\n",
    "x = x.reshape((2, 3))\n",
    "print(x.shape)"
   ]
  },
  {
   "cell_type": "markdown",
   "metadata": {},
   "source": [
    "A special case of reshaping that’s commonly encountered is transposition. Transposing a\n",
    "matrix means exchanging its rows and its columns, so that x[i, :] becomes x[:, i] :\n",
    "\n",
    "\n"
   ]
  },
  {
   "cell_type": "code",
   "execution_count": null,
   "metadata": {},
   "outputs": [],
   "source": [
    "x = np.zeros((300, 20))\n",
    "x = np.transpose(x)\n",
    "print(x.shape)"
   ]
  },
  {
   "cell_type": "markdown",
   "metadata": {},
   "source": [
    "## Developing with Keras: a quick overview\n",
    "You’ve already seen one example of a Keras model: the MNIST example. The typical\n",
    "Keras workflow looks just like that example:\n",
    "\n",
    "* Define your training data: input tensors and target tensors.\n",
    "* Define a network of layers (or model ) that maps your inputs to your targets.\n",
    "* Configure the learning process by choosing a loss function, an optimizer, and\n",
    "some metrics to monitor.\n",
    "* Iterate on your training data by calling the fit() method of your model.\n",
    "\n",
    "\n",
    "There are two ways to define a model: using the **Sequential class** (only for linear\n",
    "stacks of layers, which is the most common network architecture by far) or the **func-\n",
    "tional API** (for directed acyclic graphs of layers, which lets you build completely arbi-\n",
    "trary architectures).\n",
    "\n",
    "Once your model architecture is defined, it doesn’t matter whether you used a\n",
    "Sequential model or the functional API . All of the following steps are the same.\n",
    "\n",
    "Finally, the learning process consists of passing Numpy arrays of input data (and the\n",
    "corresponding target data) to the model via the fit() method, similar to what you\n",
    "would do in Scikit-Learn and several other machine-learning libraries:\n",
    "\n",
    "`model.fit(input_tensor, target_tensor, batch_size=128, epochs=10)`\n",
    "\n",
    "\n",
    "## OBJECTIVE FUNCTION\n",
    "\n",
    "Take care of the **objective function** (loss function).  Choosing the right objective function for the right problem is extremely important: your network will take any shortcut it can, to minimize the loss; so if the objective doesn’t fully correlate with success for the task at hand, your network will end up\n",
    "doing things you may not have wanted.\n",
    "\n",
    "Fortunately, when it comes to common problems such as classification, regression,\n",
    "and sequence prediction, there are simple guidelines you can follow to choose the\n",
    "correct loss. For instance, \n",
    "* you’ll use **binary crossentropy** for a two-class classification\n",
    "problem, \n",
    "* **categorical crossentropy** for a many-class classification problem, \n",
    "* **mean-squared error** for a regression problem, \n",
    "* **connectionist temporal classification (CTC)** for a sequence-learning problem, and so on. \n",
    "\n",
    "Only when you’re working on truly new research problems will you have to develop your own objective functions. "
   ]
  },
  {
   "cell_type": "markdown",
   "metadata": {},
   "source": [
    "## GPU\n",
    "\n",
    "it’s highly recommended, although not strictly necessary, that you\n",
    "run deep-learning code on a modern NVIDIA GPU\n",
    "\n",
    "If you don’t want to\n",
    "install a GPU on your machine, you can alternatively consider running your experi-\n",
    "ments on an **AWS EC2 GPU** instance or on Google Cloud Platform. But note that cloud\n",
    "GPU instances can become expensive over time"
   ]
  },
  {
   "cell_type": "markdown",
   "metadata": {},
   "source": [
    "Use the official **EC2 Deep Learning AMI** (https://aws.amazon.com/amazon-\n",
    "ai/amis), and run Keras experiments as Jupyter notebooks on EC2 . Do this if\n",
    "you don’t already have a GPU on your local machine. "
   ]
  },
  {
   "cell_type": "markdown",
   "metadata": {},
   "source": [
    "## The IMDB dataset"
   ]
  },
  {
   "cell_type": "markdown",
   "metadata": {},
   "source": [
    "* A set of 50,000 highly polarized reviews from the\n",
    "Internet Movie Database. They’re split into 25,000 reviews for training and 25,000\n",
    "reviews for testing, each set consisting of 50% negative and 50% positive reviews.\n",
    "\n",
    "* The reviews (sequences of words) have been turned into\n",
    "sequences of integers, where each integer stands for a specific word in a dictionary.\n"
   ]
  },
  {
   "cell_type": "code",
   "execution_count": null,
   "metadata": {},
   "outputs": [],
   "source": [
    "from keras.datasets import imdb\n",
    "help(imdb.load_data) # this load the numeric data. We prefer to see the process since the beggining"
   ]
  },
  {
   "cell_type": "markdown",
   "metadata": {},
   "source": [
    "The function above, load the numeric data. We prefer to see the process since the beggining"
   ]
  },
  {
   "cell_type": "markdown",
   "metadata": {},
   "source": [
    "\n",
    "**Loading the IMDB dataset**\n",
    "\n",
    "The dataset is available at https://www.kaggle.com/c/word2vec-nlp-tutorial/data"
   ]
  },
  {
   "cell_type": "code",
   "execution_count": null,
   "metadata": {},
   "outputs": [],
   "source": []
  },
  {
   "cell_type": "code",
   "execution_count": null,
   "metadata": {},
   "outputs": [],
   "source": [
    "import pandas as pd\n",
    "import numpy as np\n",
    "imdb_df = pd.read_csv('IMBD/labeledTrainData.tsv', sep = '\\t')\n",
    "\n",
    "# reproducibility\n",
    "np.random.seed(42)\n"
   ]
  },
  {
   "cell_type": "code",
   "execution_count": null,
   "metadata": {},
   "outputs": [],
   "source": [
    "pd.set_option('display.max_colwidth', 500)\n",
    "imdb_df.head(5)"
   ]
  },
  {
   "cell_type": "markdown",
   "metadata": {},
   "source": [
    "## Data Tokenization\n",
    "The text data need to be converted into vectors using either **bag of words or embeddings model**. We will first explore bag of words (BOW) model. In the BOW model, a sentence will be represented as a vector with the words (also called tokens) as dimensions of the vectors.\n",
    "\n",
    "For the purpose of creating vectors, we need to tokenize the sentences first and find out all unique tokens (words) used across all sentences. The corpus of unquie words used could very large, so we can limit the corpus of tokens by using only the most popular (frequently used) words. In this example, we will use 10000 words.\n",
    "\n",
    "## TOKENIZER\n",
    "\n",
    "Tokenizer provides 4 attributes that you can use to query what has been learned about your documents:\n",
    "\n",
    "* word_counts: A dictionary of words and their counts.\n",
    "* word_docs: A dictionary of words and how many documents each appeared in.\n",
    "* word_index: A dictionary of words and their uniquely assigned integers.\n",
    "* document_count:An integer count of the total number of documents that were used to fit the Tokenizer."
   ]
  },
  {
   "cell_type": "code",
   "execution_count": null,
   "metadata": {},
   "outputs": [],
   "source": [
    "from keras.preprocessing.text import Tokenizer"
   ]
  },
  {
   "cell_type": "code",
   "execution_count": null,
   "metadata": {},
   "outputs": [],
   "source": [
    "all_tokenizer = Tokenizer()\n",
    "all_tokenizer \n",
    "all_tokenizer.fit_on_texts( imdb_df.review )\n"
   ]
  },
  {
   "cell_type": "code",
   "execution_count": null,
   "metadata": {},
   "outputs": [],
   "source": [
    "type(all_tokenizer)"
   ]
  },
  {
   "cell_type": "code",
   "execution_count": null,
   "metadata": {},
   "outputs": [],
   "source": [
    "all_tokenizer.document_count"
   ]
  },
  {
   "cell_type": "raw",
   "metadata": {},
   "source": [
    "There are 25000 documents (reviews) and 88582 unique words."
   ]
  },
  {
   "cell_type": "code",
   "execution_count": null,
   "metadata": {},
   "outputs": [],
   "source": [
    "len(all_tokenizer.word_counts)"
   ]
  },
  {
   "cell_type": "code",
   "execution_count": null,
   "metadata": {},
   "outputs": [],
   "source": [
    "#high frequency words\n",
    "list(all_tokenizer.word_counts.items())[0:10]"
   ]
  },
  {
   "cell_type": "code",
   "execution_count": null,
   "metadata": {},
   "outputs": [],
   "source": [
    "#low frequency words\n",
    "list(all_tokenizer.word_counts.items())[-10:]"
   ]
  },
  {
   "cell_type": "markdown",
   "metadata": {},
   "source": [
    "We can assume the low frequencey words are rarely used to express sentiments as they have appeared only once across all reviews. And only choose to keep top N (for example 10000) words for our analysis. So, let's tokenize agains with a limit to number of words to 10000.\n"
   ]
  },
  {
   "cell_type": "code",
   "execution_count": null,
   "metadata": {},
   "outputs": [],
   "source": [
    "num_words = 10000\n",
    "tokenizer = Tokenizer(num_words = num_words)\n",
    "tokenizer.fit_on_texts( imdb_df.review )"
   ]
  },
  {
   "cell_type": "code",
   "execution_count": null,
   "metadata": {},
   "outputs": [],
   "source": [
    "#Checking first few words and their counts\n",
    "import itertools\n",
    "\n",
    "x = itertools.islice(tokenizer.word_counts.items(), 0, 5)\n",
    "\n",
    "for key, value in x:\n",
    "    print(key, value)"
   ]
  },
  {
   "cell_type": "code",
   "execution_count": null,
   "metadata": {},
   "outputs": [],
   "source": [
    "#Checking words and their indexes\n",
    "list(tokenizer.word_index.items())[-10:]\n"
   ]
  },
  {
   "cell_type": "code",
   "execution_count": null,
   "metadata": {},
   "outputs": [],
   "source": [
    "list(tokenizer.word_index.items())[1:10]"
   ]
  },
  {
   "cell_type": "markdown",
   "metadata": {},
   "source": [
    "## Encoding\n",
    "* Encoding a text using the dictionary of tokens\n",
    "* Finding indexes of the words"
   ]
  },
  {
   "cell_type": "code",
   "execution_count": null,
   "metadata": {},
   "outputs": [],
   "source": [
    "from collections import OrderedDict\n",
    "words_by_sorted_index = sorted(tokenizer.word_index.items(), \n",
    "                                           key=lambda idx: idx[1])\n",
    "type(words_by_sorted_index)\n",
    "words_by_sorted_index[0:10]"
   ]
  },
  {
   "cell_type": "code",
   "execution_count": null,
   "metadata": {},
   "outputs": [],
   "source": [
    "tokenizer.word_index['the']"
   ]
  },
  {
   "cell_type": "code",
   "execution_count": null,
   "metadata": {},
   "outputs": [],
   "source": [
    "tokenizer.word_index['a']"
   ]
  },
  {
   "cell_type": "code",
   "execution_count": null,
   "metadata": {},
   "outputs": [],
   "source": [
    "tokenizer.texts_to_sequences( [\"The movie gladiator is a brilliant movie\"])"
   ]
  },
  {
   "cell_type": "markdown",
   "metadata": {},
   "source": [
    "## Encoding all the movie reviews\n",
    "Now the documents (reviews) will be encoded as per the dictionary.\n"
   ]
  },
  {
   "cell_type": "code",
   "execution_count": null,
   "metadata": {},
   "outputs": [],
   "source": [
    "%%time\n",
    "sequences = tokenizer.texts_to_sequences(imdb_df.review)"
   ]
  },
  {
   "cell_type": "code",
   "execution_count": null,
   "metadata": {},
   "outputs": [],
   "source": [
    "#Let's look at the words index sequences for a specific sentence.\n",
    "imdb_df.review[10:11]"
   ]
  },
  {
   "cell_type": "code",
   "execution_count": null,
   "metadata": {},
   "outputs": [],
   "source": [
    "\n",
    "np.array(sequences[10:11])"
   ]
  },
  {
   "cell_type": "markdown",
   "metadata": {},
   "source": [
    "## Encode Y Variable"
   ]
  },
  {
   "cell_type": "code",
   "execution_count": null,
   "metadata": {},
   "outputs": [],
   "source": [
    "\n",
    "y = np.array(imdb_df.sentiment)\n"
   ]
  },
  {
   "cell_type": "code",
   "execution_count": null,
   "metadata": {},
   "outputs": [],
   "source": [
    "y[0:5]\n"
   ]
  },
  {
   "cell_type": "code",
   "execution_count": null,
   "metadata": {},
   "outputs": [],
   "source": [
    "#How many classes available?\n",
    "imdb_df.sentiment.unique()"
   ]
  },
  {
   "cell_type": "markdown",
   "metadata": {},
   "source": [
    "## Truncate and Pad Sequences\n",
    "One of the problem in dealing with sentences are they are not of same size. Some sentences will have more words and some will have fewer words. Neural networks take input of same lenghts for training a batch.\n",
    "\n",
    "So, we need to choose a length or size of input. Larger sentences will have to be truncated and smaller ones need to be padded. But what size or lenght to consider?\n",
    "\n",
    "We need to take the length which can cover most of the sentences. Only few need to be truncated or padded. For that we will look at the distribution of the word or token lengths."
   ]
  },
  {
   "cell_type": "code",
   "execution_count": null,
   "metadata": {},
   "outputs": [],
   "source": [
    "num_tokens = [len(tokens) for tokens in sequences]\n",
    "num_tokens = np.array(num_tokens)\n",
    "import matplotlib.pyplot as plt\n",
    "import seaborn as sn\n",
    "%matplotlib inline\n",
    "sn.distplot( num_tokens );"
   ]
  },
  {
   "cell_type": "code",
   "execution_count": null,
   "metadata": {},
   "outputs": [],
   "source": [
    "mean_num_tokens = num_tokens.mean()\n",
    "std_num_tokens = num_tokens.std()\n",
    "print(mean_num_tokens)\n",
    "print(std_num_tokens)\n",
    "\n",
    "#if we assume that legnth chosen should address 95% of the sentences, then we can take 2 standard deviation \n",
    "#of the mean length.\n",
    "\n",
    "max_review_length = int(mean_num_tokens + 2 * std_num_tokens)\n",
    "max_review_length"
   ]
  },
  {
   "cell_type": "code",
   "execution_count": null,
   "metadata": {},
   "outputs": [],
   "source": [
    "#How many sentences will not be truncated at all?\n",
    "\n",
    "print(np.sum(num_tokens < max_review_length) / len(num_tokens))\n",
    "\n",
    "#Almost 95%.\n"
   ]
  },
  {
   "cell_type": "code",
   "execution_count": null,
   "metadata": {},
   "outputs": [],
   "source": [
    "#Now we will pad or truncate. But padding or truncating can be done at the beginning of the sentence \n",
    "#or at the end of the sentences. pre or post can be used to specify the padding and truncating the beginning \n",
    "#or end of sentence.\n",
    "\n",
    "from keras.preprocessing.sequence import pad_sequences \n",
    "pad = 'pre'\n",
    "X = pad_sequences(sequences, \n",
    "                  max_review_length, \n",
    "                  padding=pad, \n",
    "                  truncating=pad)\n",
    "X[0:1]"
   ]
  },
  {
   "cell_type": "markdown",
   "metadata": {},
   "source": [
    "## Split Datasets\n"
   ]
  },
  {
   "cell_type": "code",
   "execution_count": null,
   "metadata": {},
   "outputs": [],
   "source": [
    "\n",
    "from sklearn.model_selection import train_test_split\n",
    "X_train, X_test, y_train, y_test = train_test_split(X, \n",
    "                                                    y, \n",
    "                                                    test_size = 0.2)\n",
    "print(X_train.shape)\n",
    "print(X_test.shape)\n",
    "\n",
    "input_shape = X_train.shape"
   ]
  },
  {
   "cell_type": "markdown",
   "metadata": {},
   "source": [
    "\n",
    "## Bag Of Words Model\n",
    "\n",
    "Model Architecture\n",
    "\n",
    "(Bag of words) -> Dense Layer(1024) -> Dense Layer(256) -> Dense Layer(128) -> Dense Layer(64) -> Relu -> Dense Layer(1) -> Sigmoid\n",
    "\n"
   ]
  },
  {
   "cell_type": "code",
   "execution_count": null,
   "metadata": {},
   "outputs": [],
   "source": [
    "\n",
    "from keras import backend as K\n",
    "from keras.models import Sequential\n",
    "from keras.layers import Flatten, Dense, Activation\n",
    "\n",
    "np.random.seed(42)\n",
    "K.clear_session()  # clear default graph\n",
    "\n",
    "\n",
    "bow_model = Sequential()\n",
    "\n",
    "bow_model.add(Dense(16, input_shape=(input_shape[1],)))\n",
    "bow_model.add(Activation('relu'))\n",
    "bow_model.add(layers.Dropout(0.5))\n",
    "# An \"activation\" is just a non-linear function applied to the output\n",
    "# of the layer above. Here, with a \"rectified linear unit\",\n",
    "# we clamp all values below 0 to 0.\n",
    "bow_model.add(Dense(16))\n",
    "bow_model.add(Activation('relu'))\n",
    "bow_model.add(layers.Dropout(0.5))\n",
    "bow_model.add(Dense(16))\n",
    "bow_model.add(Activation('relu'))\n",
    "bow_model.add(layers.Dropout(0.5))\n",
    "bow_model.add(Dense(1))\n",
    "# This special \"softmax\" activation among other things,\n",
    "# ensures the output is a valid probaility distribution, that is\n",
    "# that its values are all non-negative and sum to 1.\n",
    "bow_model.add(Activation('sigmoid'))\n",
    "bow_model.summary()"
   ]
  },
  {
   "cell_type": "code",
   "execution_count": null,
   "metadata": {},
   "outputs": [],
   "source": [
    "bow_model.compile(loss='binary_crossentropy', \n",
    "              optimizer='adam', \n",
    "              metrics=['accuracy'])\n",
    "EPOCHS = 15 # INITIALLY 20, LATER YO SEE WHERE THE TRAINING AND TEST STAT TO SEPARATE A FIXED ACCORDINGLY\n",
    "BATCH_SIZE = 512"
   ]
  },
  {
   "cell_type": "code",
   "execution_count": null,
   "metadata": {},
   "outputs": [],
   "source": [
    "%%time \n",
    "# reproducibility\n",
    "np.random.seed(42)\n",
    "# fit model\n",
    "bow_history = bow_model.fit(\n",
    "    X_train, \n",
    "    y_train,  # prepared data\n",
    "    batch_size = BATCH_SIZE,\n",
    "    epochs = EPOCHS,\n",
    "    shuffle = True,\n",
    "    verbose=1,\n",
    "    validation_data = (X_test, y_test)\n",
    ")"
   ]
  },
  {
   "cell_type": "code",
   "execution_count": null,
   "metadata": {},
   "outputs": [],
   "source": [
    "import matplotlib.pyplot as plt\n",
    "import seaborn as sn\n",
    "%matplotlib inline\n",
    "\n",
    "def plot_accuracy(hist):\n",
    "    plt.plot(hist['acc'])\n",
    "    plt.plot(hist['val_acc'])\n",
    "    plt.title('model accuracy')\n",
    "    plt.ylabel('accuracy')\n",
    "    plt.xlabel('epoch')\n",
    "    plt.legend(['train', \n",
    "                'test'], \n",
    "               loc='upper left')\n",
    "    plt.show()\n",
    "    \n",
    "def plot_loss(hist):\n",
    "    plt.plot(hist['loss'])\n",
    "    plt.plot(hist['val_loss'])\n",
    "    plt.title('model loss')\n",
    "    plt.ylabel('loss')\n",
    "    plt.xlabel('epoch')\n",
    "    plt.legend(['train', \n",
    "                'test'], \n",
    "               loc='upper left')\n",
    "    plt.show()   "
   ]
  },
  {
   "cell_type": "code",
   "execution_count": null,
   "metadata": {},
   "outputs": [],
   "source": [
    "plot_accuracy( bow_history.history )"
   ]
  },
  {
   "cell_type": "code",
   "execution_count": null,
   "metadata": {},
   "outputs": [],
   "source": [
    "\n",
    "plot_loss( bow_history.history )"
   ]
  },
  {
   "cell_type": "code",
   "execution_count": null,
   "metadata": {},
   "outputs": [],
   "source": [
    "result = bow_model.evaluate(X_test, y_test)\n",
    "print(\"Accuracy: {0:.2%}\".format(result[1]))"
   ]
  },
  {
   "cell_type": "code",
   "execution_count": null,
   "metadata": {},
   "outputs": [],
   "source": [
    "y_pred = bow_model.predict_classes(X_test[0:1000])\n",
    "\n",
    "from sklearn import metrics\n",
    "cm = metrics.confusion_matrix( y_test[0:1000],\n",
    "                            y_pred, [1,0] )\n",
    "\n",
    "sn.heatmap(cm, annot=True,  \n",
    "           fmt='.2f', \n",
    "           xticklabels = [\"Positive\", \"Negative\"] , \n",
    "           yticklabels = [\"Positive\", \"Negative\"] )\n",
    "\n",
    "plt.ylabel('True label')\n",
    "plt.xlabel('Predicted label');\n",
    "plt.title( 'Confusion Matrix for Sentiment Classification');"
   ]
  },
  {
   "cell_type": "code",
   "execution_count": null,
   "metadata": {},
   "outputs": [],
   "source": [
    "from sklearn.metrics import classification_report\n",
    "print( classification_report(y_test[0:1000], \n",
    "                             y_pred))"
   ]
  },
  {
   "cell_type": "markdown",
   "metadata": {},
   "source": [
    "## ROC"
   ]
  },
  {
   "cell_type": "code",
   "execution_count": null,
   "metadata": {
    "scrolled": true
   },
   "outputs": [],
   "source": [
    "y_pred_probs = bow_model.predict(X_test[0:1000])\n",
    "\n",
    "auc_score = metrics.roc_auc_score( y_test[0:1000], \n",
    "                                  y_pred_probs  )\n",
    "\n",
    "fpr, tpr, thresholds = metrics.roc_curve( y_test[0:1000],\n",
    "                                         y_pred_probs,\n",
    "                                         drop_intermediate = False )\n",
    "\n",
    "plt.figure(figsize=(8, 6))\n",
    "plt.plot( fpr, tpr, label='ROC curve (area = %0.2f)' % auc_score )\n",
    "plt.plot([0, 1], [0, 1], 'k--')\n",
    "plt.xlim([0.0, 1.0])\n",
    "plt.ylim([0.0, 1.05])\n",
    "plt.xlabel('False Positive Rate or [1 - True Negative Rate]')\n",
    "plt.ylabel('True Positive Rate')\n",
    "plt.title('Receiver operating characteristic example')\n",
    "plt.legend(loc=\"lower right\")\n",
    "plt.show()"
   ]
  },
  {
   "cell_type": "markdown",
   "metadata": {},
   "source": [
    "## Using Embeddings (Recurrent Neural Networks)\n",
    "\n",
    "In Word embeddings, words are represented by a vector i.e. series of numbers (weights). The vectors represent words in a N dimension space, in which similar meaning words are places nearer to each other while the dissimilar words are kept far. The dimensions in the space represent some latent factors, by which the words could be defined. All words are assigned some weights in each each latent factors. Words that share some common meaning have similar weights across common factors.\n",
    "\n",
    "The word embeddings weights can be estimated during the NN model building. There are also pre-built word embeddings are available, which can be used in the model. We will discuss about the pre-built word embeddings later in the tutorial.\n",
    "\n",
    "Word embeddings are commonly used in many Natural Language Processing (NLP) tasks because they are found to be useful representations of words and often lead to better performance in the various tasks performed. Given its widespread use, this post seeks to introduce the concept of word embeddings to the prospective NLP practitioner.\n",
    "\n",
    "Here are couple of good references to understand embeddings\n",
    "\n",
    "https://medium.com/huggingface/universal-word-sentence-embeddings-ce48ddc8fc3a\n",
    "\n",
    "(Bag of words) -> Embeddings (8) -> Dense Layer(16) -> Relu -> Dense Layer(1) -> Sigmoid\n",
    "\n",
    "\n",
    "* We will try another optimizers and applying regularization (dropouts).\n",
    "* Add a dropout layer as a regularization layer for dealing with overfitting.\n",
    "* We will also add callbacks for reducing LR and early stopping. And store tensorflow logs for monitoring."
   ]
  },
  {
   "cell_type": "code",
   "execution_count": null,
   "metadata": {},
   "outputs": [],
   "source": [
    "from keras_tqdm import TQDMNotebookCallback\n",
    "from keras.callbacks import ReduceLROnPlateau, EarlyStopping, ModelCheckpoint\n",
    "from keras.callbacks import TensorBoard\n",
    "\n",
    "callbacks_list = [ReduceLROnPlateau(monitor='val_loss',\n",
    "                                    factor=0.1, \n",
    "                                    patience=3),\n",
    "                 EarlyStopping(monitor='val_loss',\n",
    "                               patience=4),\n",
    "                 ModelCheckpoint(filepath='imdb_model.h5',\n",
    "                                 monitor='val_loss',\n",
    "                                 save_best_only=True),\n",
    "                 TensorBoard(\"./imdb_logs\"),\n",
    "                 TQDMNotebookCallback(leave_inner=True,\n",
    "                                      leave_outer=True)]"
   ]
  },
  {
   "cell_type": "code",
   "execution_count": null,
   "metadata": {},
   "outputs": [],
   "source": [
    "from keras.layers import Dropout\n",
    "\n",
    "K.clear_session()\n",
    "\n",
    "emb_model = Sequential()\n",
    "# We specify the maximum input length to our Embedding layer\n",
    "# so we can later flatten the embedded inputs\n",
    "emb_model.add(Embedding(10000, \n",
    "                          8, \n",
    "                          input_length=max_review_length,\n",
    "                          name='layer_embedding'))\n",
    "# After the Embedding layer, \n",
    "# our activations have shape `(samples, maxlen, 8)`.\n",
    "\n",
    "# We flatten the 3D tensor of embeddings \n",
    "# into a 2D tensor of shape `(samples, maxlen * 8)`\n",
    "emb_model.add(Flatten())\n",
    "\n",
    "emb_model.add(Dense(16))\n",
    "emb_model.add(Activation('relu'))\n",
    "\n",
    "emb_model.add(Dropout(0.8))\n",
    "\n",
    "# We add the classifier on top\n",
    "emb_model.add(Dense(1))\n",
    "emb_model.add(Activation('sigmoid'))\n",
    "emb_model.compile(optimizer=\"adam\", \n",
    "              loss='binary_crossentropy', \n",
    "              metrics=['accuracy'])\n",
    "\n"
   ]
  },
  {
   "cell_type": "code",
   "execution_count": null,
   "metadata": {},
   "outputs": [],
   "source": [
    "emb_history = emb_model.fit(X_train, \n",
    "                    y_train,\n",
    "                    epochs=20,\n",
    "                    batch_size=32,\n",
    "                    callbacks = callbacks_list,\n",
    "                    validation_split=0.3)"
   ]
  },
  {
   "cell_type": "code",
   "execution_count": null,
   "metadata": {},
   "outputs": [],
   "source": [
    "import matplotlib.pyplot as plt\n",
    "import seaborn as sn\n",
    "%matplotlib inline\n",
    "\n",
    "def plot_accuracy(hist):\n",
    "    plt.plot(hist['acc'])\n",
    "    plt.plot(hist['val_acc'])\n",
    "    plt.title('model accuracy')\n",
    "    plt.ylabel('accuracy')\n",
    "    plt.xlabel('epoch')\n",
    "    plt.legend(['train', \n",
    "                'test'], \n",
    "               loc='upper left')\n",
    "    plt.show()\n",
    "    \n",
    "def plot_loss(hist):\n",
    "    plt.plot(hist['loss'])\n",
    "    plt.plot(hist['val_loss'])\n",
    "    plt.title('model loss')\n",
    "    plt.ylabel('loss')\n",
    "    plt.xlabel('epoch')\n",
    "    plt.legend(['train', \n",
    "                'test'], \n",
    "               loc='upper left')\n",
    "    plt.show()    \n",
    "\n",
    "plot_accuracy( emb_history.history )"
   ]
  },
  {
   "cell_type": "code",
   "execution_count": null,
   "metadata": {},
   "outputs": [],
   "source": [
    "plot_loss( emb_history.history )"
   ]
  },
  {
   "cell_type": "code",
   "execution_count": null,
   "metadata": {},
   "outputs": [],
   "source": [
    "result = emb_model.evaluate(X_test, y_test)\n",
    "print(\"Accuracy: {0:.2%}\".format(result[1]))"
   ]
  },
  {
   "cell_type": "code",
   "execution_count": null,
   "metadata": {},
   "outputs": [],
   "source": [
    "y_pred = emb_model.predict_classes(X_test[0:1000])\n",
    "\n",
    "from sklearn import metrics\n",
    "cm = metrics.confusion_matrix( y_test[0:1000],\n",
    "                            y_pred, [1,0] )\n",
    "\n",
    "sn.heatmap(cm, annot=True,  \n",
    "           fmt='.2f', \n",
    "           xticklabels = [\"Positive\", \"Negative\"] , \n",
    "           yticklabels = [\"Positive\", \"Negative\"] )\n",
    "\n",
    "plt.ylabel('True label')\n",
    "plt.xlabel('Predicted label');\n",
    "plt.title( 'Confusion Matrix for Sentiment Classification');"
   ]
  },
  {
   "cell_type": "code",
   "execution_count": null,
   "metadata": {},
   "outputs": [],
   "source": [
    "y_pred_probs = emb_model.predict(X_test[0:1000])\n",
    "\n",
    "auc_score = metrics.roc_auc_score( y_test[0:1000], \n",
    "                                  y_pred_probs  )\n",
    "\n",
    "fpr, tpr, thresholds = metrics.roc_curve( y_test[0:1000],\n",
    "                                         y_pred_probs,\n",
    "                                         drop_intermediate = False )\n",
    "\n",
    "plt.figure(figsize=(8, 6))\n",
    "plt.plot( fpr, tpr, label='ROC curve (area = %0.2f)' % auc_score )\n",
    "plt.plot([0, 1], [0, 1], 'k--')\n",
    "plt.xlim([0.0, 1.0])\n",
    "plt.ylim([0.0, 1.05])\n",
    "plt.xlabel('False Positive Rate or [1 - True Negative Rate]')\n",
    "plt.ylabel('True Positive Rate')\n",
    "plt.title('Receiver operating characteristic example')\n",
    "plt.legend(loc=\"lower right\")\n",
    "plt.show()"
   ]
  },
  {
   "attachments": {
    "image.png": {
     "image/png": "[encoded data removed]"
    }
   },
   "cell_type": "markdown",
   "metadata": {},
   "source": [
    "## TIPOS DE REDES\n",
    "\n",
    "* There are a lot of aquitectures. The following link describe some of then.\n",
    "https://towardsdatascience.com/the-mostly-complete-chart-of-neural-networks-explained-3fb6f2367464\n",
    "\n",
    "* The most important for us are:\n",
    "\n",
    "**Recurrent Neural Networks** here each of hidden cell received it’s own output with fixed delay — one or more iterations. Apart from that, it was like common FNN.This is used when decisions from past iterations or samples can influence current ones. The most common examples of such contexts are texts — a word can be analysed only in context of previous words or sentences.\n",
    "\n",
    "![image.png](attachment:image.png)\n",
    "\n",
    "**Long-Short term memory (LSTM)** This type introduces a memory cell, a special cell that can process data when data have time gaps (or lags). **RNNs can process texts by “keeping in mind” ten previous words**, and **LSTM networks can process video frame “keeping in mind” something that happened many frames ago**. LSTM networks are also widely used for writing and speech recognition.\n",
    "\n",
    "Memory cells are actually composed of a couple of elements — called gates, that are recurrent and control how information is being remembered and forgotten (note that there are no activation functions between blocks).\n",
    "\n",
    "![image.png](attachment:image.png)\n",
    "\n",
    "**Deep Convolutional Networks**\n",
    "\n",
    "DCN nowadays are stars of artificial neural networks. They feature convolution cells (or pooling layers) and kernels, each serving a different purpose.\n",
    "\n",
    "Convolution kernels actually process input data, and pooling layers simplify it (mostly using non-linear functions, like max), reducing unnecessary features.\n",
    "\n",
    "Typically used for image recognition, they operate on small subset of image (something about 20x20 pixels). The input window is sliding along the image, pixel by pixel. The data is passed to convolution layers, that form a funnel (compressing detected features). From the terms of image recognition, first layer detects gradients, second lines, third shapes, and so on to the scale of particular objects. DFFs are commonly attached to the final convolutional layer for further data processing.\n",
    "\n",
    "![image.png](attachment:image.png)\n",
    "\n",
    "**Deep Feed Forward**\n",
    "\n",
    "(Multilayer Perceptron)\n",
    "![image.png](attachment:image.png)"
   ]
  },
  {
   "cell_type": "markdown",
   "metadata": {},
   "source": [
    "## REGULARIZATION\n",
    "\n",
    "The processing of fighting overfitting this way is called **regularization**. \n",
    "\n",
    "A simple model in this context is a model where the distribution of parameter values\n",
    "has less entropy (or a model with fewer parameters). Thus a common way to mitigate overfitting is to put constraints on the complexity of a network by forcing its weights to take only small values, which makes the\n",
    "distribution of weight values more regular. This is called weight regularization, and it’s\n",
    "done by adding to the loss function of the network a cost associated with having large\n",
    "weights. This cost comes in two flavors:\n",
    "* L1 regularization—The cost added is proportional to the absolute value of the\n",
    "weight coefficients (the L1 norm of the weights).\n",
    "* L2 regularization—The cost added is proportional to the square of the value of the\n",
    "weight coefficients (the L2 norm of the weights). L2 regularization is also called\n",
    "weight decay in the context of neural networks. Don’t let the different name con-\n",
    "fuse you: weight decay is mathematically the same as L2 regularization.\n",
    "\n",
    "\n",
    "\n"
   ]
  },
  {
   "cell_type": "markdown",
   "metadata": {},
   "source": [
    "# Adding L2 weight regularization to the model\n",
    "\n",
    "\n",
    "`model.add(layers.Dense(16, kernel_regularizer=regularizers.l2(0.001),\n",
    "activation='relu', input_shape=(10000,)))\n",
    "model.add(layers.Dense(16, kernel_regularizer=regularizers.l2(0.001),\n",
    "activation='relu'))\n",
    "model.add(layers.Dense(1, activation='sigmoid'))`\n",
    "\n"
   ]
  },
  {
   "cell_type": "markdown",
   "metadata": {},
   "source": [
    "l2(0.001) means every coefficient in the weight matrix of the layer will add 0.001 *\n",
    "weight_coefficient_value to the total loss of the network. Note that because this\n",
    "penalty is only added at training time, the loss for this network will be much higher at\n",
    "training than at test time."
   ]
  },
  {
   "cell_type": "markdown",
   "metadata": {},
   "source": [
    "## Different weight regularizers available in Keras\n",
    "\n",
    "**L1 regularization**\n",
    "\n",
    "`from keras import regularizers\n",
    "regularizers.l1(0.001)`\n",
    "\n",
    "**Simultaneous L1 and L2 regularization**\n",
    "\n",
    "`regularizers.l1_l2(l1=0.001, l2=0.001)`"
   ]
  },
  {
   "cell_type": "markdown",
   "metadata": {},
   "source": [
    "## DROPOUT\n",
    "\n",
    "Dropout, applied to a layer, consists of randomly dropping out\n",
    "(setting to zero) a number of output features of the layer during training. It was developed by Geoff Hinton and his students at the Uni-\n",
    "versity of Toronto.\n",
    "\n",
    "The creator says he was inspired by, among other things, a fraud-prevention mechanism used by banks. In his own words, “I went to my bank. The tellers kept changing\n",
    "and I asked one of them why. He said he didn’t know but they got moved around a lot.\n",
    "I figured it must be because it would require cooperation between employees to suc-\n",
    "cessfully defraud the bank. This made me realize that randomly removing a different\n",
    "subset of neurons on each example **would prevent conspiracies** and thus reduce over-\n",
    "fitting. The core idea is that introducing noise in the output values of a layer can\n",
    "break up happenstance patterns that aren’t significant (what the autho refers to as con-\n",
    "spiracies), which the network will start memorizing if no noise is present."
   ]
  },
  {
   "cell_type": "markdown",
   "metadata": {},
   "source": [
    "To recap, these are the most common ways to prevent overfitting in neural networks:\n",
    "* Get more training data.\n",
    "* Reduce the capacity of the network.\n",
    "* Add weight regularization.\n",
    "* Add dropout."
   ]
  },
  {
   "cell_type": "code",
   "execution_count": null,
   "metadata": {},
   "outputs": [],
   "source": []
  },
  {
   "cell_type": "code",
   "execution_count": null,
   "metadata": {},
   "outputs": [],
   "source": []
  },
  {
   "cell_type": "code",
   "execution_count": null,
   "metadata": {},
   "outputs": [],
   "source": []
  },
  {
   "cell_type": "code",
   "execution_count": null,
   "metadata": {},
   "outputs": [],
   "source": []
  }
 ],
 "metadata": {
  "kernelspec": {
   "display_name": "Python 3",
   "language": "python",
   "name": "python3"
  },
  "language_info": {
   "codemirror_mode": {
    "name": "ipython",
    "version": 3
   },
   "file_extension": ".py",
   "mimetype": "text/x-python",
   "name": "python",
   "nbconvert_exporter": "python",
   "pygments_lexer": "ipython3",
   "version": "3.7.4"
  }
 },
 "nbformat": 4,
 "nbformat_minor": 4
}
