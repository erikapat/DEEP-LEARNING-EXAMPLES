{
 "cells": [
  {
   "cell_type": "markdown",
   "metadata": {},
   "source": [
    "## Predicting house prices: a regression example\n",
    "\n",
    "The two previous examples were considered classification problems, where the goal\n",
    "was to predict a single discrete label of an input data point. Another common type of\n",
    "machine-learning problem is regression, which consists of predicting a continuous\n",
    "value instead of a discrete label:"
   ]
  },
  {
   "cell_type": "markdown",
   "metadata": {},
   "source": [
    "## The Boston Housing Price dataset\n",
    "\n",
    "You’ll attempt to predict the median price of homes in a given Boston suburb in the\n",
    "mid-1970s, given data points about the suburb at the time, such as the crime rate, the\n",
    "local property tax rate, and so on. The dataset you’ll use has an interesting difference\n",
    "from the two previous examples. It has relatively few data points: only 506, split\n",
    "between 404 training samples and 102 test samples. And each feature in the input data\n",
    "(for example, the crime rate) has a different scale. For instance, some values are pro-\n",
    "portions, which take values between 0 and 1; others take values between 1 and 12, oth-\n",
    "ers between 0 and 100, and so on.\n",
    "\n",
    "## Loading the Boston housing dataset"
   ]
  },
  {
   "cell_type": "code",
   "execution_count": 2,
   "metadata": {},
   "outputs": [
    {
     "name": "stderr",
     "output_type": "stream",
     "text": [
      "Using TensorFlow backend.\n"
     ]
    },
    {
     "name": "stdout",
     "output_type": "stream",
     "text": [
      "Downloading data from https://s3.amazonaws.com/keras-datasets/boston_housing.npz\n",
      "57344/57026 [==============================] - 0s 2us/step\n"
     ]
    }
   ],
   "source": [
    "from keras.datasets import boston_housing\n",
    "(train_data, train_targets), (test_data, test_targets) = boston_housing.load_data()"
   ]
  },
  {
   "cell_type": "markdown",
   "metadata": {},
   "source": [
    "## Preparing the data\n",
    "\n",
    "It would be problematic to feed into a neural network values that all take wildly differ-\n",
    "ent ranges. The network might be able to automatically adapt to such heterogeneous\n",
    "data, but it would definitely make learning more difficult. A widespread best practice\n",
    "to deal with such data is to do feature-wise normalization: for each feature in the input\n",
    "data (a column in the input data matrix), you subtract the mean of the feature and\n",
    "divide by the standard deviation, so that the feature is centered around 0 and has a\n",
    "unit standard deviation. This is easily done in Numpy."
   ]
  },
  {
   "cell_type": "code",
   "execution_count": 4,
   "metadata": {},
   "outputs": [],
   "source": [
    "mean = train_data.mean(axis=0)\n",
    "train_data -= mean\n",
    "std = train_data.std(axis=0)\n",
    "train_data /= std\n",
    "test_data -= mean\n",
    "test_data /= std"
   ]
  },
  {
   "cell_type": "markdown",
   "metadata": {},
   "source": [
    "## Building your network\n",
    "\n",
    "Because so few samples are available, you’ll use a very small network with two hidden\n",
    "layers, each with 64 units. In general, the less training data you have, the worse overfit-\n",
    "ting will be, and using a small network is one way to mitigate overfitting."
   ]
  },
  {
   "cell_type": "code",
   "execution_count": 7,
   "metadata": {},
   "outputs": [],
   "source": [
    "#Model definition\n",
    "from keras import models\n",
    "from keras import layers\n",
    "#Because you’ll need to instantiate\n",
    "#the same model multiple times, you\n",
    "#use a function to construct it.\n",
    "def build_model():\n",
    "    model = models.Sequential()\n",
    "    model.add(layers.Dense(64, activation='relu',\n",
    "    input_shape=(train_data.shape[1],)))\n",
    "    model.add(layers.Dense(64, activation='relu'))\n",
    "    model.add(layers.Dense(1))\n",
    "    model.compile(optimizer='rmsprop', loss='mse', metrics=['mae'])\n",
    "    return model"
   ]
  },
  {
   "cell_type": "markdown",
   "metadata": {},
   "source": [
    "The network ends with a single unit and no activation (it will be a linear layer). This is\n",
    "a typical setup for scalar regression (a regression where you’re trying to predict a single\n",
    "continuous value). Applying an activation function would constrain the range the out-\n",
    "put can take; for instance, if you applied a sigmoid activation function to the last layer,\n",
    "the network could only learn to predict values between 0 and 1. Here, because the last\n",
    "layer is purely linear, the network is free to learn to predict values in any range.\n",
    "\n",
    "## Validating your approach using K-fold validation\n",
    "To evaluate your network while you keep adjusting its parameters (such as the number\n",
    "of epochs used for training), you could split the data into a training set and a valida-\n",
    "tion set, as you did in the previous examples. But because you have so few data points,\n",
    "the validation set would end up being very small (for instance, about 100 examples).\n",
    "As a consequence, the validation scores might change a lot depending on which data\n",
    "points you chose to use for validation and which you chose for training: the validation\n",
    "scores might have a high variance with regard to the validation split. This would pre-\n",
    "vent you from reliably evaluating your model.\n",
    "The best practice in such situations is to use K -fold cross-validation (see figure 3.11).\n",
    "It consists of splitting the available data into K partitions (typically K = 4 or 5), instanti-\n",
    "ating K identical models, and training each one on K – 1 partitions while evaluating on\n",
    "the remaining partition. The validation score for the model used is then the average of\n",
    "the K validation scores obtained. In terms of code, this is straightforward."
   ]
  },
  {
   "cell_type": "code",
   "execution_count": 10,
   "metadata": {},
   "outputs": [
    {
     "name": "stdout",
     "output_type": "stream",
     "text": [
      "processing fold # 0\n",
      "processing fold # 1\n",
      "processing fold # 2\n",
      "processing fold # 3\n"
     ]
    }
   ],
   "source": [
    "#K-fold validation\n",
    "import numpy as np\n",
    "k = 4\n",
    "num_val_samples = len(train_data) // k\n",
    "num_epochs = 100\n",
    "all_scores = []\n",
    "\n",
    "for i in range(k):\n",
    "    print('processing fold #', i)\n",
    "    val_data = train_data[i * num_val_samples: (i + 1) * num_val_samples]\n",
    "    val_targets = train_targets[i * num_val_samples: (i + 1) * num_val_samples]\n",
    "    \n",
    "    partial_train_data = np.concatenate(\n",
    "        [train_data[:i * num_val_samples],\n",
    "        train_data[(i + 1) * num_val_samples:]],\n",
    "        axis=0)\n",
    "    partial_train_targets = np.concatenate(\n",
    "        [train_targets[:i * num_val_samples],\n",
    "        train_targets[(i + 1) * num_val_samples:]],\n",
    "        axis=0)\n",
    "#Builds the Keras model (already compiled)\n",
    "#Trains the model )in silent mode,verbose = 0)\n",
    "model = build_model()\n",
    "model.fit(partial_train_data, partial_train_targets,\n",
    "epochs=num_epochs, batch_size=1, verbose=0)\n",
    "val_mse, val_mae = model.evaluate(val_data, val_targets, verbose=0)\n",
    "all_scores.append(val_mae)\n"
   ]
  },
  {
   "cell_type": "code",
   "execution_count": 13,
   "metadata": {},
   "outputs": [
    {
     "name": "stdout",
     "output_type": "stream",
     "text": [
      "processing fold # 0\n",
      "processing fold # 1\n",
      "processing fold # 2\n",
      "processing fold # 3\n"
     ]
    }
   ],
   "source": [
    "#Saving the validation logs at each fold\n",
    "num_epochs = 500\n",
    "#Prepares the validation data: #data from partition #k\n",
    "all_mae_histories = []\n",
    "\n",
    "for i in range(k):\n",
    "    print('processing fold #', i)\n",
    "    val_data = train_data[i * num_val_samples: (i + 1) * num_val_samples]\n",
    "    val_targets = train_targets[i * num_val_samples: (i + 1) * num_val_samples]\n",
    "\n",
    "    partial_train_data = np.concatenate(\n",
    "    [train_data[:i * num_val_samples],\n",
    "    train_data[(i + 1) * num_val_samples:]],\n",
    "    axis=0)\n",
    "\n",
    "#Prepares the training data: data from all other partitions\n",
    "partial_train_targets = np.concatenate(\n",
    "[train_targets[:i * num_val_samples],\n",
    "train_targets[(i + 1) * num_val_samples:]],\n",
    "axis=0)\n",
    "#Builds the Keras model(already compiled)\n",
    "model = build_model()\n",
    "history = model.fit(partial_train_data, partial_train_targets,\n",
    "validation_data=(val_data, val_targets),\n",
    "epochs=num_epochs, batch_size=1, verbose=0)\n",
    "mae_history = history.history['val_mean_absolute_error']\n",
    "all_mae_histories.append(mae_history)\n",
    "#Trains the model(in silent mode, verbose=0)"
   ]
  },
  {
   "cell_type": "code",
   "execution_count": 15,
   "metadata": {},
   "outputs": [
    {
     "data": {
      "image/png": "[encoded data removed]",
      "text/plain": [
       "<Figure size 432x288 with 1 Axes>"
      ]
     },
     "metadata": {
      "needs_background": "light"
     },
     "output_type": "display_data"
    }
   ],
   "source": [
    "#You can then compute the average of the per-epoch MAE scores for all folds.\n",
    "#Building the history of successive mean K-fold validation scores\n",
    "average_mae_history = [\n",
    "np.mean([x[i] for x in all_mae_histories]) for i in range(num_epochs)]\n",
    "#Let’s plot this; \n",
    "#Listing 3.30 Plotting validation scores\n",
    "import matplotlib.pyplot as plt\n",
    "plt.plot(range(1, len(average_mae_history) + 1), average_mae_history)\n",
    "plt.xlabel('Epochs')\n",
    "plt.ylabel('Validation MAE')\n",
    "plt.show()"
   ]
  },
  {
   "cell_type": "code",
   "execution_count": 16,
   "metadata": {},
   "outputs": [
    {
     "data": {
      "image/png": "[encoded data removed]",
      "text/plain": [
       "<Figure size 432x288 with 1 Axes>"
      ]
     },
     "metadata": {
      "needs_background": "light"
     },
     "output_type": "display_data"
    }
   ],
   "source": [
    "#Plotting validation scores, excluding the first 10 data points\n",
    "def smooth_curve(points, factor=0.9):\n",
    "    smoothed_points = []\n",
    "    for point in points:\n",
    "        if smoothed_points:\n",
    "            previous = smoothed_points[-1]\n",
    "            smoothed_points.append(previous * factor + point * (1 - factor))\n",
    "        else:\n",
    "            smoothed_points.append(point)\n",
    "    return smoothed_points\n",
    "\n",
    "smooth_mae_history = smooth_curve(average_mae_history[10:])\n",
    "\n",
    "plt.plot(range(1, len(smooth_mae_history) + 1), smooth_mae_history)\n",
    "plt.xlabel('Epochs')\n",
    "plt.ylabel('Validation MAE')\n",
    "plt.show()"
   ]
  },
  {
   "cell_type": "code",
   "execution_count": 17,
   "metadata": {},
   "outputs": [
    {
     "name": "stdout",
     "output_type": "stream",
     "text": [
      "102/102 [==============================] - 0s 537us/step\n"
     ]
    }
   ],
   "source": [
    "#Training the final model\n",
    "#Gets a fresh, compiled model\n",
    "model = build_model()\n",
    "#Trains it on the entirety of the data\n",
    "model.fit(train_data, train_targets,\n",
    "epochs=80, batch_size=16, verbose=0)\n",
    "test_mse_score, test_mae_score = model.evaluate(test_data, test_targets)"
   ]
  },
  {
   "cell_type": "code",
   "execution_count": 19,
   "metadata": {},
   "outputs": [
    {
     "data": {
      "text/plain": [
       "2.9992925700019386"
      ]
     },
     "execution_count": 19,
     "metadata": {},
     "output_type": "execute_result"
    }
   ],
   "source": [
    "test_mae_score"
   ]
  },
  {
   "cell_type": "markdown",
   "metadata": {},
   "source": [
    "Here’s what you should take away from this example:\n",
    "* Regression is done using different loss functions than what we used for classification. Mean squared error ( MSE ) is a loss function commonly used for regres-\n",
    "sion.\n",
    "* Similarly, evaluation metrics to be used for regression differ from those used for\n",
    "classification; naturally, the concept of accuracy doesn’t apply for regression. A\n",
    "common regression metric is mean absolute error ( MAE ).\n",
    "* When features in the input data have values in different ranges, each feature\n",
    "should be scaled independently as a preprocessing step.\n",
    "* When there is little data available, using K-fold validation is a great way to reli-\n",
    "ably evaluate a model.\n",
    "* When little training data is available, it’s preferable to use a small network with\n",
    "few hidden layers (typically only one or two), in order to avoid severe overfitting."
   ]
  },
  {
   "cell_type": "code",
   "execution_count": null,
   "metadata": {},
   "outputs": [],
   "source": []
  }
 ],
 "metadata": {
  "kernelspec": {
   "display_name": "Python 3",
   "language": "python",
   "name": "python3"
  },
  "language_info": {
   "codemirror_mode": {
    "name": "ipython",
    "version": 3
   },
   "file_extension": ".py",
   "mimetype": "text/x-python",
   "name": "python",
   "nbconvert_exporter": "python",
   "pygments_lexer": "ipython3",
   "version": "3.5.6"
  }
 },
 "nbformat": 4,
 "nbformat_minor": 2
}
